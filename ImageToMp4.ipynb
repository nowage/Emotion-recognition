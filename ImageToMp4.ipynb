{
 "cells": [
  {
   "cell_type": "raw",
   "metadata": {},
   "source": [
    "!ls /prj/nowage/_git/kcse/Emotion-recognition/test/1.bap"
   ]
  },
  {
   "cell_type": "code",
   "execution_count": 9,
   "metadata": {},
   "outputs": [],
   "source": [
    "import re,os\n",
    "import numpy as np\n",
    "\n"
   ]
  },
  {
   "cell_type": "code",
   "execution_count": 10,
   "metadata": {},
   "outputs": [],
   "source": [
    "def imgToMp4(path,pathOut):\n",
    "    paths = [os.path.join(path , i ) for i in os.listdir(path) if re.search(\".jpg$\", i )]\n",
    "    ## 정렬 작업\n",
    "    store1 = []\n",
    "    store2 = []\n",
    "    for i in paths :\n",
    "        if len(i) == 19 :\n",
    "            store2.append(i)\n",
    "        else :\n",
    "            store1.append(i)\n",
    "\n",
    "    paths = list(np.sort(store1)) + list(np.sort(store2))\n",
    "    #len('ims/2/a/2a.2710.png')\n",
    "\n",
    "    fps = 10\n",
    "    import cv2\n",
    "    frame_array = []\n",
    "    for idx , path in enumerate(paths) : \n",
    "        if (idx % 2 == 0) | (idx % 5 == 0) :\n",
    "            continue\n",
    "        img = cv2.imread(path)\n",
    "        height, width, layers = img.shape\n",
    "        size = (width,height)\n",
    "        frame_array.append(img)\n",
    "    out = cv2.VideoWriter(pathOut,cv2.VideoWriter_fourcc(*'DIVX'), fps, size)\n",
    "    for i in range(len(frame_array)):\n",
    "        # writing to a image array\n",
    "        out.write(frame_array[i])\n",
    "    out.release()\n",
    "    \n",
    "# 동영상으로 만들 이미지들.\n",
    "path = \"/prj/nowage/_git/kcse/Emotion-recognition/test/1.bap/\"\n",
    "# 저장될 동영상\n",
    "pathOut = '/prj/nowage/_git/kcse/Emotion-recognition/test/1.bap.mp4'\n",
    "imgToMp4(path,pathOut)\n",
    "\n",
    "path = \"/prj/nowage/_git/kcse/Emotion-recognition/test/2.juk/\"\n",
    "pathOut = '/prj/nowage/_git/kcse/Emotion-recognition/test/2.juk.mp4'\n",
    "imgToMp4(path,pathOut)\n",
    "\n",
    "path = \"/prj/nowage/_git/kcse/Emotion-recognition/test/3.mieum/\"\n",
    "pathOut = '/prj/nowage/_git/kcse/Emotion-recognition/test/3.mieum.mp4'    \n",
    "imgToMp4(path,pathOut)    "
   ]
  },
  {
   "cell_type": "code",
   "execution_count": null,
   "metadata": {},
   "outputs": [],
   "source": []
  }
 ],
 "metadata": {
  "kernelspec": {
   "display_name": "test",
   "language": "python",
   "name": "test"
  },
  "language_info": {
   "codemirror_mode": {
    "name": "ipython",
    "version": 3
   },
   "file_extension": ".py",
   "mimetype": "text/x-python",
   "name": "python",
   "nbconvert_exporter": "python",
   "pygments_lexer": "ipython3",
   "version": "3.6.9"
  }
 },
 "nbformat": 4,
 "nbformat_minor": 4
}
