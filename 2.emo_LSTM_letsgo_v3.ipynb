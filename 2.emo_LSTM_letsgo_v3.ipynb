{
 "cells": [
  {
   "cell_type": "markdown",
   "metadata": {
    "id": "tImylazBwcbW"
   },
   "source": [
    "# 0. import 모음"
   ]
  },
  {
   "cell_type": "code",
   "execution_count": 1,
   "metadata": {
    "executionInfo": {
     "elapsed": 2980,
     "status": "ok",
     "timestamp": 1634263430845,
     "user": {
      "displayName": "김성국",
      "photoUrl": "https://lh3.googleusercontent.com/a/default-user=s64",
      "userId": "14454204284131910272"
     },
     "user_tz": -540
    },
    "id": "NbyqPCYRwEHL"
   },
   "outputs": [],
   "source": [
    "from google.colab import drive\n",
    "import pandas as pd\n",
    "import numpy as np\n",
    "import os\n",
    "from sklearn.model_selection import train_test_split\n",
    "from tensorflow import keras\n",
    "from keras.layers import LSTM\n",
    "from keras.models import Sequential\n",
    "from keras.layers import Dense\n",
    "import keras.backend as K\n",
    "from keras.callbacks import EarlyStopping\n",
    "from sklearn.metrics import ConfusionMatrixDisplay\n",
    "from sklearn.metrics import confusion_matrix\n",
    "import matplotlib.pyplot as plt\n",
    "from sklearn.metrics import accuracy_score, recall_score, precision_score, f1_score"
   ]
  },
  {
   "cell_type": "markdown",
   "metadata": {
    "id": "q2cPoV9JG2AO"
   },
   "source": [
    "# 1. 구글마운트"
   ]
  },
  {
   "cell_type": "code",
   "execution_count": 2,
   "metadata": {
    "colab": {
     "base_uri": "https://localhost:8080/"
    },
    "executionInfo": {
     "elapsed": 102,
     "status": "ok",
     "timestamp": 1634263430853,
     "user": {
      "displayName": "김성국",
      "photoUrl": "https://lh3.googleusercontent.com/a/default-user=s64",
      "userId": "14454204284131910272"
     },
     "user_tz": -540
    },
    "id": "zQwKdss_-jRm",
    "outputId": "a1b1b2fd-f64d-441b-aa80-894f58bcd65f"
   },
   "outputs": [
    {
     "name": "stdout",
     "output_type": "stream",
     "text": [
      "Drive already mounted at /gdrive; to attempt to forcibly remount, call drive.mount(\"/gdrive\", force_remount=True).\n"
     ]
    }
   ],
   "source": [
    "# drive.mount('/gdrive')"
   ]
  },
  {
   "cell_type": "markdown",
   "metadata": {
    "id": "PI_BZ_FxIsEx"
   },
   "source": [
    "# 2. 데이터셋 만들기"
   ]
  },
  {
   "cell_type": "markdown",
   "metadata": {
    "id": "yzBo9TSyG_Eu"
   },
   "source": [
    "## 데이터 위치로 이동"
   ]
  },
  {
   "cell_type": "code",
   "execution_count": 3,
   "metadata": {
    "colab": {
     "base_uri": "https://localhost:8080/"
    },
    "executionInfo": {
     "elapsed": 79,
     "status": "ok",
     "timestamp": 1634263430854,
     "user": {
      "displayName": "김성국",
      "photoUrl": "https://lh3.googleusercontent.com/a/default-user=s64",
      "userId": "14454204284131910272"
     },
     "user_tz": -540
    },
    "id": "a4bOvVbtBEAk",
    "outputId": "b9fbf444-a816-4e52-d86a-4464171024b5"
   },
   "outputs": [
    {
     "name": "stdout",
     "output_type": "stream",
     "text": [
      "/gdrive/MyDrive/EM_LSTM/data\n"
     ]
    }
   ],
   "source": [
    "# %cd '/gdrive/MyDrive/EM_LSTM/data'"
   ]
  },
  {
   "cell_type": "markdown",
   "metadata": {
    "id": "d39XwKEqHJgU"
   },
   "source": [
    "## file list 가져오기"
   ]
  },
  {
   "cell_type": "code",
   "execution_count": 4,
   "metadata": {
    "executionInfo": {
     "elapsed": 73,
     "status": "ok",
     "timestamp": 1634263430854,
     "user": {
      "displayName": "김성국",
      "photoUrl": "https://lh3.googleusercontent.com/a/default-user=s64",
      "userId": "14454204284131910272"
     },
     "user_tz": -540
    },
    "id": "hZTf5tnd8egj"
   },
   "outputs": [],
   "source": [
    "path_dir = './'\n",
    "file_list = os.listdir(path_dir)"
   ]
  },
  {
   "cell_type": "markdown",
   "metadata": {
    "id": "oRAbRFkvphvC"
   },
   "source": [
    "## file 불러오기"
   ]
  },
  {
   "cell_type": "code",
   "execution_count": 5,
   "metadata": {
    "executionInfo": {
     "elapsed": 72,
     "status": "ok",
     "timestamp": 1634263430855,
     "user": {
      "displayName": "김성국",
      "photoUrl": "https://lh3.googleusercontent.com/a/default-user=s64",
      "userId": "14454204284131910272"
     },
     "user_tz": -540
    },
    "id": "3ITD6LHbDVVK"
   },
   "outputs": [],
   "source": [
    "em_x = []\n",
    "em_y = []\n",
    "for i in file_list :\n",
    "  tempstr = './'+i\n",
    "  em_x.append(np.array(pd.read_csv(tempstr)))\n",
    "  #파일을 불러오면서 맨 앞 글자를 가져와 y 로 씀\n",
    "  em_y.append(i[0])"
   ]
  },
  {
   "cell_type": "markdown",
   "metadata": {
    "id": "-rJlCuZEppql"
   },
   "source": [
    "- 파일 갯수 확인"
   ]
  },
  {
   "cell_type": "code",
   "execution_count": 6,
   "metadata": {
    "colab": {
     "base_uri": "https://localhost:8080/"
    },
    "executionInfo": {
     "elapsed": 71,
     "status": "ok",
     "timestamp": 1634263430855,
     "user": {
      "displayName": "김성국",
      "photoUrl": "https://lh3.googleusercontent.com/a/default-user=s64",
      "userId": "14454204284131910272"
     },
     "user_tz": -540
    },
    "id": "HQRiN8cGNVH4",
    "outputId": "b267f3a3-28a2-47b9-c277-ef45eeded0c1"
   },
   "outputs": [
    {
     "name": "stdout",
     "output_type": "stream",
     "text": [
      "42 42\n"
     ]
    }
   ],
   "source": [
    "print(len(em_x), len(em_y))"
   ]
  },
  {
   "cell_type": "code",
   "execution_count": 7,
   "metadata": {
    "colab": {
     "base_uri": "https://localhost:8080/"
    },
    "executionInfo": {
     "elapsed": 67,
     "status": "ok",
     "timestamp": 1634263430856,
     "user": {
      "displayName": "김성국",
      "photoUrl": "https://lh3.googleusercontent.com/a/default-user=s64",
      "userId": "14454204284131910272"
     },
     "user_tz": -540
    },
    "id": "PQRx1QT4MLAv",
    "outputId": "f2ba2ca1-ee0d-421c-dbf9-db7a685bb524"
   },
   "outputs": [
    {
     "name": "stderr",
     "output_type": "stream",
     "text": [
      "/usr/local/lib/python3.7/dist-packages/ipykernel_launcher.py:3: VisibleDeprecationWarning: Creating an ndarray from ragged nested sequences (which is a list-or-tuple of lists-or-tuples-or ndarrays with different lengths or shapes) is deprecated. If you meant to do this, you must specify 'dtype=object' when creating the ndarray\n",
      "  This is separate from the ipykernel package so we can avoid doing imports until\n"
     ]
    },
    {
     "data": {
      "text/plain": [
       "(202, 7)"
      ]
     },
     "execution_count": 7,
     "metadata": {},
     "output_type": "execute_result"
    }
   ],
   "source": [
    "# 데이터를 다시 불러와야 하거나 로우데이터로 뭔가 확인을 해야할 수 있으므로 em_x 는 그대로 두고 em_x2 생성\n",
    "# 하는 김에 np.array로 해서 shape 도 봄.\n",
    "em_x2 = np.array(em_x)\n",
    "em_x2[0].shape"
   ]
  },
  {
   "cell_type": "markdown",
   "metadata": {
    "id": "8vWIU8PgqFf7"
   },
   "source": [
    "## y 값 인코딩"
   ]
  },
  {
   "cell_type": "code",
   "execution_count": 8,
   "metadata": {
    "executionInfo": {
     "elapsed": 62,
     "status": "ok",
     "timestamp": 1634263430856,
     "user": {
      "displayName": "김성국",
      "photoUrl": "https://lh3.googleusercontent.com/a/default-user=s64",
      "userId": "14454204284131910272"
     },
     "user_tz": -540
    },
    "id": "ZGBcEf1hPAlb"
   },
   "outputs": [],
   "source": [
    "reshape_ha = list(em_y)"
   ]
  },
  {
   "cell_type": "code",
   "execution_count": 9,
   "metadata": {
    "executionInfo": {
     "elapsed": 61,
     "status": "ok",
     "timestamp": 1634263430857,
     "user": {
      "displayName": "김성국",
      "photoUrl": "https://lh3.googleusercontent.com/a/default-user=s64",
      "userId": "14454204284131910272"
     },
     "user_tz": -540
    },
    "id": "YZbKGtn7Gwve"
   },
   "outputs": [],
   "source": [
    "enc = {'a': 0, 'b': 1, 'c': 2}"
   ]
  },
  {
   "cell_type": "code",
   "execution_count": 10,
   "metadata": {
    "executionInfo": {
     "elapsed": 60,
     "status": "ok",
     "timestamp": 1634263430857,
     "user": {
      "displayName": "김성국",
      "photoUrl": "https://lh3.googleusercontent.com/a/default-user=s64",
      "userId": "14454204284131910272"
     },
     "user_tz": -540
    },
    "id": "CmVIDv7xPNs-"
   },
   "outputs": [],
   "source": [
    "lst_e = [enc[i] for i in reshape_ha]"
   ]
  },
  {
   "cell_type": "markdown",
   "metadata": {
    "id": "srw4e9UXui1N"
   },
   "source": [
    "- em_x 와 마찬가지로 em_y 보존을 위해 em_y2 생성"
   ]
  },
  {
   "cell_type": "code",
   "execution_count": 11,
   "metadata": {
    "executionInfo": {
     "elapsed": 60,
     "status": "ok",
     "timestamp": 1634263430858,
     "user": {
      "displayName": "김성국",
      "photoUrl": "https://lh3.googleusercontent.com/a/default-user=s64",
      "userId": "14454204284131910272"
     },
     "user_tz": -540
    },
    "id": "AG4HQhsOud4L"
   },
   "outputs": [],
   "source": [
    "em_y2 = lst_e"
   ]
  },
  {
   "cell_type": "markdown",
   "metadata": {
    "id": "IJK6MFuatlcp"
   },
   "source": [
    "### y 값 원핫 인코딩"
   ]
  },
  {
   "cell_type": "code",
   "execution_count": 12,
   "metadata": {
    "colab": {
     "base_uri": "https://localhost:8080/"
    },
    "executionInfo": {
     "elapsed": 60,
     "status": "ok",
     "timestamp": 1634263430859,
     "user": {
      "displayName": "김성국",
      "photoUrl": "https://lh3.googleusercontent.com/a/default-user=s64",
      "userId": "14454204284131910272"
     },
     "user_tz": -540
    },
    "id": "-518_ZSJpqFq",
    "outputId": "3c4dbea9-d15d-49b5-d52b-daacab118a4f"
   },
   "outputs": [
    {
     "data": {
      "text/plain": [
       "array([[1., 0., 0.],\n",
       "       [0., 1., 0.],\n",
       "       [0., 0., 1.]])"
      ]
     },
     "execution_count": 12,
     "metadata": {},
     "output_type": "execute_result"
    }
   ],
   "source": [
    "ohe=np.eye( len(enc.keys() ))\n",
    "ohe"
   ]
  },
  {
   "cell_type": "code",
   "execution_count": 13,
   "metadata": {
    "executionInfo": {
     "elapsed": 55,
     "status": "ok",
     "timestamp": 1634263430859,
     "user": {
      "displayName": "김성국",
      "photoUrl": "https://lh3.googleusercontent.com/a/default-user=s64",
      "userId": "14454204284131910272"
     },
     "user_tz": -540
    },
    "id": "PKgLvopmpuA-"
   },
   "outputs": [],
   "source": [
    "temp_elst = [ohe[i] for i in em_y2]"
   ]
  },
  {
   "cell_type": "code",
   "execution_count": 14,
   "metadata": {
    "executionInfo": {
     "elapsed": 54,
     "status": "ok",
     "timestamp": 1634263430860,
     "user": {
      "displayName": "김성국",
      "photoUrl": "https://lh3.googleusercontent.com/a/default-user=s64",
      "userId": "14454204284131910272"
     },
     "user_tz": -540
    },
    "id": "tP2oKRzjOoO_"
   },
   "outputs": [],
   "source": [
    "em_y2 = np.array(temp_elst)"
   ]
  },
  {
   "cell_type": "markdown",
   "metadata": {
    "id": "5HYr2nYMdDFb"
   },
   "source": [
    "# EDA"
   ]
  },
  {
   "cell_type": "markdown",
   "metadata": {
    "id": "FJrrUy6XqUG8"
   },
   "source": [
    "# 학습형태로 만들어주기\n",
    "- 100개 씩 끊어서 LSTM 에서 학습할 수 있게 만들어 줌."
   ]
  },
  {
   "cell_type": "code",
   "execution_count": 15,
   "metadata": {
    "colab": {
     "base_uri": "https://localhost:8080/"
    },
    "executionInfo": {
     "elapsed": 53,
     "status": "ok",
     "timestamp": 1634263430860,
     "user": {
      "displayName": "김성국",
      "photoUrl": "https://lh3.googleusercontent.com/a/default-user=s64",
      "userId": "14454204284131910272"
     },
     "user_tz": -540
    },
    "id": "RO3crPL4D4Jm",
    "outputId": "3140b1d4-2e6a-47c1-9627-05c4ce7491ee"
   },
   "outputs": [
    {
     "name": "stdout",
     "output_type": "stream",
     "text": [
      "(2058, 100, 7) (2058, 3)\n"
     ]
    }
   ],
   "source": [
    "# 앞에서 끊어주기\n",
    "# for 문을 통해 frames 단위로 학습을 하는 부분임.\n",
    "npx = []\n",
    "npy = []\n",
    "frames = 100\n",
    "for fileidx in range(0,len(em_x2)):\n",
    "  # 파일당 최대 갯수를 지정(C 데이터가 158 이 max 인 파일이 있어서 150을 기준으로 잡음.)\n",
    "  endpoint = 150\n",
    "  for i in range(0,endpoint,1):\n",
    "    # 100단위로 쪼개서 하기 위해 인덱스 지정\n",
    "    idx = (i+frames) # i ~ idx 까지 잡아줌.\n",
    "    idx2 = (idx+1)\n",
    "    if idx2 >= endpoint :\n",
    "      break;\n",
    "    else:\n",
    "      npx.append(np.array(em_x2[fileidx][i:idx]))\n",
    "      npy.append(np.array(em_y2[fileidx]))\n",
    "npx = np.array(npx)\n",
    "npy = np.array(npy)\n",
    "print(npx.shape, npy.shape)"
   ]
  },
  {
   "cell_type": "code",
   "execution_count": 17,
   "metadata": {
    "colab": {
     "base_uri": "https://localhost:8080/"
    },
    "executionInfo": {
     "elapsed": 49,
     "status": "ok",
     "timestamp": 1634263430861,
     "user": {
      "displayName": "김성국",
      "photoUrl": "https://lh3.googleusercontent.com/a/default-user=s64",
      "userId": "14454204284131910272"
     },
     "user_tz": -540
    },
    "id": "IYqXsBBQg6l0",
    "outputId": "b27eb6e0-6396-4004-f317-cf65989510df"
   },
   "outputs": [
    {
     "data": {
      "text/plain": [
       "(2058, 100, 7)"
      ]
     },
     "execution_count": 17,
     "metadata": {},
     "output_type": "execute_result"
    }
   ],
   "source": [
    "npx.shape"
   ]
  },
  {
   "cell_type": "code",
   "execution_count": 18,
   "metadata": {
    "colab": {
     "base_uri": "https://localhost:8080/"
    },
    "executionInfo": {
     "elapsed": 45,
     "status": "ok",
     "timestamp": 1634263430861,
     "user": {
      "displayName": "김성국",
      "photoUrl": "https://lh3.googleusercontent.com/a/default-user=s64",
      "userId": "14454204284131910272"
     },
     "user_tz": -540
    },
    "id": "0Jl4lvrh7P1t",
    "outputId": "baab25f5-0a3e-4b99-fa79-ccfa3aae358a"
   },
   "outputs": [
    {
     "data": {
      "text/plain": [
       "(2058, 3)"
      ]
     },
     "execution_count": 18,
     "metadata": {},
     "output_type": "execute_result"
    }
   ],
   "source": [
    "npy.shape"
   ]
  },
  {
   "cell_type": "markdown",
   "metadata": {
    "id": "hl8C1U4Isy9u"
   },
   "source": [
    "## 정답 분포 확인"
   ]
  },
  {
   "cell_type": "code",
   "execution_count": 19,
   "metadata": {
    "colab": {
     "base_uri": "https://localhost:8080/"
    },
    "executionInfo": {
     "elapsed": 42,
     "status": "ok",
     "timestamp": 1634263430862,
     "user": {
      "displayName": "김성국",
      "photoUrl": "https://lh3.googleusercontent.com/a/default-user=s64",
      "userId": "14454204284131910272"
     },
     "user_tz": -540
    },
    "id": "dWROCk1tM93U",
    "outputId": "027107f6-5763-45b1-c128-fd70ee8358f0"
   },
   "outputs": [
    {
     "data": {
      "text/plain": [
       "0    1    2  \n",
       "1.0  0.0  0.0    686\n",
       "0.0  1.0  0.0    686\n",
       "     0.0  1.0    686\n",
       "dtype: int64"
      ]
     },
     "execution_count": 19,
     "metadata": {},
     "output_type": "execute_result"
    }
   ],
   "source": [
    "pdy = pd.DataFrame(npy)\n",
    "pdy.value_counts()"
   ]
  },
  {
   "cell_type": "markdown",
   "metadata": {
    "id": "2-1QEefU0wxu"
   },
   "source": [
    "## 셔플링"
   ]
  },
  {
   "cell_type": "code",
   "execution_count": 20,
   "metadata": {
    "executionInfo": {
     "elapsed": 38,
     "status": "ok",
     "timestamp": 1634263430862,
     "user": {
      "displayName": "김성국",
      "photoUrl": "https://lh3.googleusercontent.com/a/default-user=s64",
      "userId": "14454204284131910272"
     },
     "user_tz": -540
    },
    "id": "cXkXx7c20wdK"
   },
   "outputs": [],
   "source": [
    "# shuffle = True\n",
    "X_train, X_temptest, y_train, y_temptest = train_test_split(npx,  npy, \n",
    "                                                    test_size=0.0001, \n",
    "                                                    shuffle=True, \n",
    "                                                    random_state=1004)"
   ]
  },
  {
   "cell_type": "code",
   "execution_count": 21,
   "metadata": {
    "colab": {
     "base_uri": "https://localhost:8080/"
    },
    "executionInfo": {
     "elapsed": 38,
     "status": "ok",
     "timestamp": 1634263430863,
     "user": {
      "displayName": "김성국",
      "photoUrl": "https://lh3.googleusercontent.com/a/default-user=s64",
      "userId": "14454204284131910272"
     },
     "user_tz": -540
    },
    "id": "ZPnjZgm5LAfZ",
    "outputId": "bb14a33e-7068-4993-9fbd-6fb4cecb5656"
   },
   "outputs": [
    {
     "name": "stdout",
     "output_type": "stream",
     "text": [
      "2057 1 2057 1\n"
     ]
    }
   ],
   "source": [
    "print (len(X_train),len(X_temptest),len(y_train),len(y_temptest))"
   ]
  },
  {
   "cell_type": "markdown",
   "metadata": {
    "id": "CtRwY3wHYlmr"
   },
   "source": [
    "## TEST data 생성"
   ]
  },
  {
   "cell_type": "code",
   "execution_count": 22,
   "metadata": {
    "colab": {
     "base_uri": "https://localhost:8080/"
    },
    "executionInfo": {
     "elapsed": 34,
     "status": "ok",
     "timestamp": 1634263430863,
     "user": {
      "displayName": "김성국",
      "photoUrl": "https://lh3.googleusercontent.com/a/default-user=s64",
      "userId": "14454204284131910272"
     },
     "user_tz": -540
    },
    "id": "r84Vv6-eYlTJ",
    "outputId": "994aadc5-d38a-42bb-d62b-2d51efa95f2e"
   },
   "outputs": [
    {
     "name": "stdout",
     "output_type": "stream",
     "text": [
      "/gdrive/MyDrive/EM_LSTM/test\n"
     ]
    }
   ],
   "source": [
    "%cd '/gdrive/MyDrive/EM_LSTM/test'"
   ]
  },
  {
   "cell_type": "code",
   "execution_count": 23,
   "metadata": {
    "colab": {
     "base_uri": "https://localhost:8080/"
    },
    "executionInfo": {
     "elapsed": 31,
     "status": "ok",
     "timestamp": 1634263430864,
     "user": {
      "displayName": "김성국",
      "photoUrl": "https://lh3.googleusercontent.com/a/default-user=s64",
      "userId": "14454204284131910272"
     },
     "user_tz": -540
    },
    "id": "b1d9PxDmDaJS",
    "outputId": "96e6516f-b874-4395-9ebc-5bbf3b02b055"
   },
   "outputs": [
    {
     "data": {
      "text/plain": [
       "7"
      ]
     },
     "execution_count": 23,
     "metadata": {},
     "output_type": "execute_result"
    }
   ],
   "source": [
    "em_x2[0].shape[1]"
   ]
  },
  {
   "cell_type": "code",
   "execution_count": 24,
   "metadata": {
    "executionInfo": {
     "elapsed": 27,
     "status": "ok",
     "timestamp": 1634263430864,
     "user": {
      "displayName": "김성국",
      "photoUrl": "https://lh3.googleusercontent.com/a/default-user=s64",
      "userId": "14454204284131910272"
     },
     "user_tz": -540
    },
    "id": "T1-l5T9TZDWl"
   },
   "outputs": [],
   "source": [
    "path_dir = './'\n",
    "file_list = os.listdir(path_dir)"
   ]
  },
  {
   "cell_type": "code",
   "execution_count": 25,
   "metadata": {
    "executionInfo": {
     "elapsed": 27,
     "status": "ok",
     "timestamp": 1634263430865,
     "user": {
      "displayName": "김성국",
      "photoUrl": "https://lh3.googleusercontent.com/a/default-user=s64",
      "userId": "14454204284131910272"
     },
     "user_tz": -540
    },
    "id": "i7AQP2JWZGCk"
   },
   "outputs": [],
   "source": [
    "em_x = []\n",
    "em_y = []\n",
    "for i in file_list :\n",
    "  tempstr = './'+i\n",
    "  em_x.append(np.array(pd.read_csv(tempstr)))\n",
    "  #파일을 불러오면서 맨 앞 글자를 가져와 y 로 씀\n",
    "  em_y.append(i[0])"
   ]
  },
  {
   "cell_type": "code",
   "execution_count": 26,
   "metadata": {
    "colab": {
     "base_uri": "https://localhost:8080/"
    },
    "executionInfo": {
     "elapsed": 26,
     "status": "ok",
     "timestamp": 1634263430865,
     "user": {
      "displayName": "김성국",
      "photoUrl": "https://lh3.googleusercontent.com/a/default-user=s64",
      "userId": "14454204284131910272"
     },
     "user_tz": -540
    },
    "id": "jEC1bwj9akcC",
    "outputId": "3d381d4a-710d-463a-8f62-85bb7beb9320"
   },
   "outputs": [
    {
     "name": "stderr",
     "output_type": "stream",
     "text": [
      "/usr/local/lib/python3.7/dist-packages/ipykernel_launcher.py:3: VisibleDeprecationWarning: Creating an ndarray from ragged nested sequences (which is a list-or-tuple of lists-or-tuples-or ndarrays with different lengths or shapes) is deprecated. If you meant to do this, you must specify 'dtype=object' when creating the ndarray\n",
      "  This is separate from the ipykernel package so we can avoid doing imports until\n"
     ]
    },
    {
     "data": {
      "text/plain": [
       "(431, 7)"
      ]
     },
     "execution_count": 26,
     "metadata": {},
     "output_type": "execute_result"
    }
   ],
   "source": [
    "# 데이터를 다시 불러와야 하거나 로우데이터로 뭔가 확인을 해야할 수 있으므로 em_x 는 그대로 두고 em_x2 생성\n",
    "# 하는 김에 np.array로 해서 shape 도 봄.\n",
    "em_x2 = np.array(em_x)\n",
    "em_x2[0].shape"
   ]
  },
  {
   "cell_type": "code",
   "execution_count": 27,
   "metadata": {
    "executionInfo": {
     "elapsed": 29,
     "status": "ok",
     "timestamp": 1634263431461,
     "user": {
      "displayName": "김성국",
      "photoUrl": "https://lh3.googleusercontent.com/a/default-user=s64",
      "userId": "14454204284131910272"
     },
     "user_tz": -540
    },
    "id": "VDA2MOewZIka"
   },
   "outputs": [],
   "source": [
    "reshape_ha = list(em_y)\n",
    "new_list = []\n",
    "for v in reshape_ha:\n",
    "    if v not in new_list:\n",
    "        new_list.append(v)"
   ]
  },
  {
   "cell_type": "code",
   "execution_count": 28,
   "metadata": {
    "executionInfo": {
     "elapsed": 28,
     "status": "ok",
     "timestamp": 1634263431462,
     "user": {
      "displayName": "김성국",
      "photoUrl": "https://lh3.googleusercontent.com/a/default-user=s64",
      "userId": "14454204284131910272"
     },
     "user_tz": -540
    },
    "id": "f4BpuzS9ZNPU"
   },
   "outputs": [],
   "source": [
    "enc = {'a': 0, 'b': 1, 'c': 2}"
   ]
  },
  {
   "cell_type": "code",
   "execution_count": 29,
   "metadata": {
    "executionInfo": {
     "elapsed": 27,
     "status": "ok",
     "timestamp": 1634263431462,
     "user": {
      "displayName": "김성국",
      "photoUrl": "https://lh3.googleusercontent.com/a/default-user=s64",
      "userId": "14454204284131910272"
     },
     "user_tz": -540
    },
    "id": "x1F8h-jYZTnw"
   },
   "outputs": [],
   "source": [
    "lst_e = [enc[i] for i in reshape_ha]"
   ]
  },
  {
   "cell_type": "code",
   "execution_count": 30,
   "metadata": {
    "executionInfo": {
     "elapsed": 27,
     "status": "ok",
     "timestamp": 1634263431463,
     "user": {
      "displayName": "김성국",
      "photoUrl": "https://lh3.googleusercontent.com/a/default-user=s64",
      "userId": "14454204284131910272"
     },
     "user_tz": -540
    },
    "id": "sbKLTPksZVaH"
   },
   "outputs": [],
   "source": [
    "em_y2 = lst_e"
   ]
  },
  {
   "cell_type": "code",
   "execution_count": 31,
   "metadata": {
    "colab": {
     "base_uri": "https://localhost:8080/"
    },
    "executionInfo": {
     "elapsed": 26,
     "status": "ok",
     "timestamp": 1634263431463,
     "user": {
      "displayName": "김성국",
      "photoUrl": "https://lh3.googleusercontent.com/a/default-user=s64",
      "userId": "14454204284131910272"
     },
     "user_tz": -540
    },
    "id": "Po7CYQisZWru",
    "outputId": "da7d5a9d-f249-43fb-cc4a-faddf3f354f5"
   },
   "outputs": [
    {
     "name": "stdout",
     "output_type": "stream",
     "text": [
      "(147, 100, 7) (147,)\n"
     ]
    }
   ],
   "source": [
    "# 앞에서 끊어주기\n",
    "# for 문을 통해 frames 단위로 학습을 하는 부분임.\n",
    "npx = []\n",
    "npy = []\n",
    "frames = 100\n",
    "for fileidx in range(0,len(em_x2)):\n",
    "  endpoint = 150\n",
    "  for i in range(0,endpoint,1):\n",
    "    # 1 개씩 하는 것이 시간이 오래 걸리는 관계로 100단위로 쪼개서 하기 위해 인덱스 지정\n",
    "    idx = (i+frames) # i ~ idx 까지 잡아줌.\n",
    "    idx2 = (idx+1)\n",
    "    if idx2 >= endpoint :\n",
    "      break;\n",
    "    else:\n",
    "      npx.append(np.array(em_x2[fileidx][i:idx]))\n",
    "      npy.append(np.array(em_y2[fileidx]))\n",
    "npx = np.array(npx)\n",
    "npy = np.array(npy)\n",
    "print(npx.shape, npy.shape)"
   ]
  },
  {
   "cell_type": "code",
   "execution_count": 32,
   "metadata": {
    "executionInfo": {
     "elapsed": 23,
     "status": "ok",
     "timestamp": 1634263431464,
     "user": {
      "displayName": "김성국",
      "photoUrl": "https://lh3.googleusercontent.com/a/default-user=s64",
      "userId": "14454204284131910272"
     },
     "user_tz": -540
    },
    "id": "Jvk6PNDQZXvH"
   },
   "outputs": [],
   "source": [
    "ohe=np.eye( len(enc.keys() ))"
   ]
  },
  {
   "cell_type": "code",
   "execution_count": null,
   "metadata": {
    "id": "HtFLV6c9ZZCs"
   },
   "outputs": [],
   "source": [
    "temp_elst = [ohe[i] for i in npy]"
   ]
  },
  {
   "cell_type": "code",
   "execution_count": 34,
   "metadata": {
    "executionInfo": {
     "elapsed": 22,
     "status": "ok",
     "timestamp": 1634263431465,
     "user": {
      "displayName": "김성국",
      "photoUrl": "https://lh3.googleusercontent.com/a/default-user=s64",
      "userId": "14454204284131910272"
     },
     "user_tz": -540
    },
    "id": "-XyrqNYOZZwU"
   },
   "outputs": [],
   "source": [
    "npy = np.array(temp_elst)"
   ]
  },
  {
   "cell_type": "code",
   "execution_count": 35,
   "metadata": {
    "executionInfo": {
     "elapsed": 21,
     "status": "ok",
     "timestamp": 1634263431465,
     "user": {
      "displayName": "김성국",
      "photoUrl": "https://lh3.googleusercontent.com/a/default-user=s64",
      "userId": "14454204284131910272"
     },
     "user_tz": -540
    },
    "id": "IuELL-yYZabv"
   },
   "outputs": [],
   "source": [
    "# shuffle = True\n",
    "from sklearn.model_selection import train_test_split\n",
    "tempx_train, X_test, tempy_train, y_test = train_test_split(npx, npy, \n",
    "                                                    test_size=0.99, \n",
    "                                                    shuffle=True, \n",
    "                                                    random_state=1004)"
   ]
  },
  {
   "cell_type": "code",
   "execution_count": 36,
   "metadata": {
    "colab": {
     "base_uri": "https://localhost:8080/"
    },
    "executionInfo": {
     "elapsed": 21,
     "status": "ok",
     "timestamp": 1634263431466,
     "user": {
      "displayName": "김성국",
      "photoUrl": "https://lh3.googleusercontent.com/a/default-user=s64",
      "userId": "14454204284131910272"
     },
     "user_tz": -540
    },
    "id": "ya2NfR8CZsOT",
    "outputId": "9badc118-2039-475c-eb96-d34ff7a40416"
   },
   "outputs": [
    {
     "name": "stdout",
     "output_type": "stream",
     "text": [
      "1 146 1 146\n"
     ]
    }
   ],
   "source": [
    "print (len(tempx_train),len(X_test),len(tempy_train),len(y_test))"
   ]
  },
  {
   "cell_type": "markdown",
   "metadata": {
    "id": "W3SZ4sbeLAOv"
   },
   "source": [
    "# 4. LSTM 모델 만들기"
   ]
  },
  {
   "cell_type": "markdown",
   "metadata": {
    "id": "XzGElfAuqxgs"
   },
   "source": [
    "## 모델 구성\n",
    "- 들어오는 데이터의 약 2배 이상의 히든레이어 생성\n",
    "- y 값에 맞춰 3 개를 softmax 형태로 아웃풋 지정"
   ]
  },
  {
   "cell_type": "code",
   "execution_count": 37,
   "metadata": {
    "colab": {
     "base_uri": "https://localhost:8080/"
    },
    "executionInfo": {
     "elapsed": 18,
     "status": "ok",
     "timestamp": 1634263431467,
     "user": {
      "displayName": "김성국",
      "photoUrl": "https://lh3.googleusercontent.com/a/default-user=s64",
      "userId": "14454204284131910272"
     },
     "user_tz": -540
    },
    "id": "NXhNoazKLETj",
    "outputId": "076aa39a-56be-47b7-d166-4d27f051cbec"
   },
   "outputs": [
    {
     "name": "stdout",
     "output_type": "stream",
     "text": [
      "Model: \"sequential\"\n",
      "_________________________________________________________________\n",
      "Layer (type)                 Output Shape              Param #   \n",
      "=================================================================\n",
      "lstm (LSTM)                  (None, 200)               166400    \n",
      "_________________________________________________________________\n",
      "dense (Dense)                (None, 3)                 603       \n",
      "=================================================================\n",
      "Total params: 167,003\n",
      "Trainable params: 167,003\n",
      "Non-trainable params: 0\n",
      "_________________________________________________________________\n"
     ]
    }
   ],
   "source": [
    "\n",
    "K.clear_session()\n",
    "model = Sequential() # Sequeatial Model \n",
    "model.add(LSTM(200, input_shape=( frames,  em_x2[0].shape[1]),activation='sigmoid')) # (timestep, feature) \n",
    "model.add(Dense(3,activation='softmax')) # output = 3\n",
    "admax = keras.optimizers.Adamax(learning_rate=0.012, beta_1=0.95, beta_2=0.999, epsilon=None, decay=0.0)\n",
    "model.compile(loss='mse', optimizer=admax)\n",
    "\n",
    "model.summary()"
   ]
  },
  {
   "cell_type": "markdown",
   "metadata": {
    "id": "3fc3GD1eqvZQ"
   },
   "source": [
    "## 학습 실행"
   ]
  },
  {
   "cell_type": "code",
   "execution_count": 38,
   "metadata": {
    "colab": {
     "base_uri": "https://localhost:8080/"
    },
    "executionInfo": {
     "elapsed": 2424487,
     "status": "ok",
     "timestamp": 1634265855940,
     "user": {
      "displayName": "김성국",
      "photoUrl": "https://lh3.googleusercontent.com/a/default-user=s64",
      "userId": "14454204284131910272"
     },
     "user_tz": -540
    },
    "id": "TBjwXVWwgjrp",
    "outputId": "59440a90-1797-418f-bd29-9ad1b02aa6c9"
   },
   "outputs": [
    {
     "name": "stdout",
     "output_type": "stream",
     "text": [
      "Epoch 1/180\n",
      "69/69 [==============================] - 15s 198ms/step - loss: 0.2938 - val_loss: 0.2786\n",
      "Epoch 2/180\n",
      "69/69 [==============================] - 13s 191ms/step - loss: 0.2564 - val_loss: 0.2248\n",
      "Epoch 3/180\n",
      "69/69 [==============================] - 13s 191ms/step - loss: 0.2219 - val_loss: 0.2247\n",
      "Epoch 4/180\n",
      "69/69 [==============================] - 13s 188ms/step - loss: 0.2195 - val_loss: 0.2262\n",
      "Epoch 5/180\n",
      "69/69 [==============================] - 13s 188ms/step - loss: 0.2146 - val_loss: 0.2400\n",
      "Epoch 6/180\n",
      "69/69 [==============================] - 13s 191ms/step - loss: 0.2002 - val_loss: 0.2673\n",
      "Epoch 7/180\n",
      "69/69 [==============================] - 13s 189ms/step - loss: 0.1870 - val_loss: 0.2616\n",
      "Epoch 8/180\n",
      "69/69 [==============================] - 13s 186ms/step - loss: 0.1837 - val_loss: 0.2638\n",
      "Epoch 9/180\n",
      "69/69 [==============================] - 13s 189ms/step - loss: 0.1777 - val_loss: 0.2787\n",
      "Epoch 10/180\n",
      "69/69 [==============================] - 14s 197ms/step - loss: 0.1869 - val_loss: 0.2528\n",
      "Epoch 11/180\n",
      "69/69 [==============================] - 13s 195ms/step - loss: 0.1796 - val_loss: 0.2577\n",
      "Epoch 12/180\n",
      "69/69 [==============================] - 14s 202ms/step - loss: 0.1719 - val_loss: 0.2615\n",
      "Epoch 13/180\n",
      "69/69 [==============================] - 13s 194ms/step - loss: 0.1639 - val_loss: 0.2431\n",
      "Epoch 14/180\n",
      "69/69 [==============================] - 13s 191ms/step - loss: 0.1706 - val_loss: 0.2493\n",
      "Epoch 15/180\n",
      "69/69 [==============================] - 13s 190ms/step - loss: 0.1588 - val_loss: 0.2273\n",
      "Epoch 16/180\n",
      "69/69 [==============================] - 13s 191ms/step - loss: 0.1539 - val_loss: 0.2128\n",
      "Epoch 17/180\n",
      "69/69 [==============================] - 13s 192ms/step - loss: 0.1480 - val_loss: 0.2146\n",
      "Epoch 18/180\n",
      "69/69 [==============================] - 13s 191ms/step - loss: 0.1475 - val_loss: 0.2003\n",
      "Epoch 19/180\n",
      "69/69 [==============================] - 13s 193ms/step - loss: 0.1467 - val_loss: 0.1606\n",
      "Epoch 20/180\n",
      "69/69 [==============================] - 14s 196ms/step - loss: 0.1438 - val_loss: 0.1921\n",
      "Epoch 21/180\n",
      "69/69 [==============================] - 14s 201ms/step - loss: 0.1414 - val_loss: 0.2629\n",
      "Epoch 22/180\n",
      "69/69 [==============================] - 14s 197ms/step - loss: 0.1384 - val_loss: 0.2197\n",
      "Epoch 23/180\n",
      "69/69 [==============================] - 13s 194ms/step - loss: 0.1400 - val_loss: 0.1584\n",
      "Epoch 24/180\n",
      "69/69 [==============================] - 13s 195ms/step - loss: 0.1344 - val_loss: 0.1425\n",
      "Epoch 25/180\n",
      "69/69 [==============================] - 14s 199ms/step - loss: 0.1448 - val_loss: 0.2213\n",
      "Epoch 26/180\n",
      "69/69 [==============================] - 13s 191ms/step - loss: 0.1339 - val_loss: 0.1637\n",
      "Epoch 27/180\n",
      "69/69 [==============================] - 13s 192ms/step - loss: 0.1301 - val_loss: 0.1759\n",
      "Epoch 28/180\n",
      "69/69 [==============================] - 13s 188ms/step - loss: 0.1255 - val_loss: 0.1571\n",
      "Epoch 29/180\n",
      "69/69 [==============================] - 13s 190ms/step - loss: 0.1169 - val_loss: 0.1638\n",
      "Epoch 30/180\n",
      "69/69 [==============================] - 13s 190ms/step - loss: 0.1158 - val_loss: 0.1397\n",
      "Epoch 31/180\n",
      "69/69 [==============================] - 13s 189ms/step - loss: 0.1156 - val_loss: 0.2202\n",
      "Epoch 32/180\n",
      "69/69 [==============================] - 13s 190ms/step - loss: 0.1170 - val_loss: 0.1729\n",
      "Epoch 33/180\n",
      "69/69 [==============================] - 13s 190ms/step - loss: 0.1120 - val_loss: 0.1684\n",
      "Epoch 34/180\n",
      "69/69 [==============================] - 14s 197ms/step - loss: 0.1054 - val_loss: 0.2146\n",
      "Epoch 35/180\n",
      "69/69 [==============================] - 13s 192ms/step - loss: 0.0970 - val_loss: 0.1448\n",
      "Epoch 36/180\n",
      "69/69 [==============================] - 13s 191ms/step - loss: 0.1010 - val_loss: 0.2306\n",
      "Epoch 37/180\n",
      "69/69 [==============================] - 13s 188ms/step - loss: 0.0956 - val_loss: 0.1615\n",
      "Epoch 38/180\n",
      "69/69 [==============================] - 13s 187ms/step - loss: 0.0813 - val_loss: 0.2293\n",
      "Epoch 39/180\n",
      "69/69 [==============================] - 13s 191ms/step - loss: 0.0763 - val_loss: 0.1459\n",
      "Epoch 40/180\n",
      "69/69 [==============================] - 13s 190ms/step - loss: 0.0858 - val_loss: 0.2333\n",
      "Epoch 41/180\n",
      "69/69 [==============================] - 13s 193ms/step - loss: 0.0747 - val_loss: 0.1582\n",
      "Epoch 42/180\n",
      "69/69 [==============================] - 13s 195ms/step - loss: 0.0650 - val_loss: 0.2250\n",
      "Epoch 43/180\n",
      "69/69 [==============================] - 13s 188ms/step - loss: 0.1286 - val_loss: 0.1724\n",
      "Epoch 44/180\n",
      "69/69 [==============================] - 13s 188ms/step - loss: 0.0683 - val_loss: 0.0704\n",
      "Epoch 45/180\n",
      "69/69 [==============================] - 13s 189ms/step - loss: 0.0570 - val_loss: 0.1667\n",
      "Epoch 46/180\n",
      "69/69 [==============================] - 13s 188ms/step - loss: 0.0803 - val_loss: 0.2236\n",
      "Epoch 47/180\n",
      "69/69 [==============================] - 13s 191ms/step - loss: 0.0657 - val_loss: 0.1216\n",
      "Epoch 48/180\n",
      "69/69 [==============================] - 13s 194ms/step - loss: 0.0757 - val_loss: 0.1556\n",
      "Epoch 49/180\n",
      "69/69 [==============================] - 13s 191ms/step - loss: 0.0710 - val_loss: 0.1209\n",
      "Epoch 50/180\n",
      "69/69 [==============================] - 14s 199ms/step - loss: 0.0526 - val_loss: 0.1379\n",
      "Epoch 51/180\n",
      "69/69 [==============================] - 13s 189ms/step - loss: 0.0466 - val_loss: 0.1629\n",
      "Epoch 52/180\n",
      "69/69 [==============================] - 13s 191ms/step - loss: 0.0490 - val_loss: 0.1551\n",
      "Epoch 53/180\n",
      "69/69 [==============================] - 14s 196ms/step - loss: 0.0561 - val_loss: 0.0363\n",
      "Epoch 54/180\n",
      "69/69 [==============================] - 14s 201ms/step - loss: 0.0650 - val_loss: 0.1039\n",
      "Epoch 55/180\n",
      "69/69 [==============================] - 14s 204ms/step - loss: 0.0506 - val_loss: 0.1748\n",
      "Epoch 56/180\n",
      "69/69 [==============================] - 14s 203ms/step - loss: 0.0399 - val_loss: 0.0987\n",
      "Epoch 57/180\n",
      "69/69 [==============================] - 14s 199ms/step - loss: 0.0416 - val_loss: 0.0145\n",
      "Epoch 58/180\n",
      "69/69 [==============================] - 13s 191ms/step - loss: 0.0445 - val_loss: 0.1779\n",
      "Epoch 59/180\n",
      "69/69 [==============================] - 13s 191ms/step - loss: 0.0353 - val_loss: 0.1030\n",
      "Epoch 60/180\n",
      "69/69 [==============================] - 13s 192ms/step - loss: 0.0316 - val_loss: 0.1268\n",
      "Epoch 61/180\n",
      "69/69 [==============================] - 14s 198ms/step - loss: 0.0562 - val_loss: 0.1329\n",
      "Epoch 62/180\n",
      "69/69 [==============================] - 13s 193ms/step - loss: 0.0742 - val_loss: 0.1059\n",
      "Epoch 63/180\n",
      "69/69 [==============================] - 13s 194ms/step - loss: 0.0380 - val_loss: 0.1198\n",
      "Epoch 64/180\n",
      "69/69 [==============================] - 13s 191ms/step - loss: 0.0351 - val_loss: 0.0928\n",
      "Epoch 65/180\n",
      "69/69 [==============================] - 13s 192ms/step - loss: 0.0338 - val_loss: 0.1344\n",
      "Epoch 66/180\n",
      "69/69 [==============================] - 13s 191ms/step - loss: 0.0410 - val_loss: 0.1360\n",
      "Epoch 67/180\n",
      "69/69 [==============================] - 13s 190ms/step - loss: 0.0736 - val_loss: 0.1344\n",
      "Epoch 68/180\n",
      "69/69 [==============================] - 13s 192ms/step - loss: 0.0394 - val_loss: 0.2579\n",
      "Epoch 69/180\n",
      "69/69 [==============================] - 13s 190ms/step - loss: 0.0684 - val_loss: 0.1524\n",
      "Epoch 70/180\n",
      "69/69 [==============================] - 13s 193ms/step - loss: 0.0319 - val_loss: 0.1173\n",
      "Epoch 71/180\n",
      "69/69 [==============================] - 13s 195ms/step - loss: 0.0301 - val_loss: 0.1056\n",
      "Epoch 72/180\n",
      "69/69 [==============================] - 14s 203ms/step - loss: 0.0379 - val_loss: 0.0858\n",
      "Epoch 73/180\n",
      "69/69 [==============================] - 13s 193ms/step - loss: 0.0422 - val_loss: 0.0232\n",
      "Epoch 74/180\n",
      "69/69 [==============================] - 13s 191ms/step - loss: 0.0267 - val_loss: 0.1058\n",
      "Epoch 75/180\n",
      "69/69 [==============================] - 13s 191ms/step - loss: 0.0263 - val_loss: 0.0701\n",
      "Epoch 76/180\n",
      "69/69 [==============================] - 13s 193ms/step - loss: 0.0225 - val_loss: 0.1065\n",
      "Epoch 77/180\n",
      "69/69 [==============================] - 14s 196ms/step - loss: 0.0208 - val_loss: 0.0180\n",
      "Epoch 78/180\n",
      "69/69 [==============================] - 13s 191ms/step - loss: 0.0207 - val_loss: 0.0393\n",
      "Epoch 79/180\n",
      "69/69 [==============================] - 13s 189ms/step - loss: 0.0369 - val_loss: 0.1014\n",
      "Epoch 80/180\n",
      "69/69 [==============================] - 13s 189ms/step - loss: 0.0516 - val_loss: 0.1769\n",
      "Epoch 81/180\n",
      "69/69 [==============================] - 13s 191ms/step - loss: 0.0268 - val_loss: 0.1822\n",
      "Epoch 82/180\n",
      "69/69 [==============================] - 13s 188ms/step - loss: 0.0246 - val_loss: 0.0243\n",
      "Epoch 83/180\n",
      "69/69 [==============================] - 13s 187ms/step - loss: 0.0208 - val_loss: 0.1608\n",
      "Epoch 84/180\n",
      "69/69 [==============================] - 13s 190ms/step - loss: 0.0324 - val_loss: 0.0270\n",
      "Epoch 85/180\n",
      "69/69 [==============================] - 13s 190ms/step - loss: 0.0270 - val_loss: 0.0197\n",
      "Epoch 86/180\n",
      "69/69 [==============================] - 13s 194ms/step - loss: 0.0194 - val_loss: 0.0202\n",
      "Epoch 87/180\n",
      "69/69 [==============================] - 13s 192ms/step - loss: 0.0224 - val_loss: 0.1139\n",
      "Epoch 88/180\n",
      "69/69 [==============================] - 13s 190ms/step - loss: 0.0183 - val_loss: 0.1114\n",
      "Epoch 89/180\n",
      "69/69 [==============================] - 13s 190ms/step - loss: 0.0168 - val_loss: 0.0183\n",
      "Epoch 90/180\n",
      "69/69 [==============================] - 13s 188ms/step - loss: 0.0925 - val_loss: 0.1567\n",
      "Epoch 91/180\n",
      "69/69 [==============================] - 13s 189ms/step - loss: 0.0431 - val_loss: 0.0775\n",
      "Epoch 92/180\n",
      "69/69 [==============================] - 13s 188ms/step - loss: 0.0274 - val_loss: 0.0357\n",
      "Epoch 93/180\n",
      "69/69 [==============================] - 14s 196ms/step - loss: 0.0376 - val_loss: 0.0355\n",
      "Epoch 94/180\n",
      "69/69 [==============================] - 14s 200ms/step - loss: 0.0272 - val_loss: 0.1013\n",
      "Epoch 95/180\n",
      "69/69 [==============================] - 14s 202ms/step - loss: 0.0179 - val_loss: 0.0952\n",
      "Epoch 96/180\n",
      "69/69 [==============================] - 13s 191ms/step - loss: 0.0165 - val_loss: 0.0231\n",
      "Epoch 97/180\n",
      "69/69 [==============================] - 13s 190ms/step - loss: 0.0149 - val_loss: 0.1217\n",
      "Epoch 98/180\n",
      "69/69 [==============================] - 13s 192ms/step - loss: 0.0144 - val_loss: 0.0976\n",
      "Epoch 99/180\n",
      "69/69 [==============================] - 13s 190ms/step - loss: 0.0265 - val_loss: 0.2010\n",
      "Epoch 100/180\n",
      "69/69 [==============================] - 13s 188ms/step - loss: 0.0181 - val_loss: 0.0107\n",
      "Epoch 101/180\n",
      "69/69 [==============================] - 13s 189ms/step - loss: 0.0159 - val_loss: 0.0953\n",
      "Epoch 102/180\n",
      "69/69 [==============================] - 13s 193ms/step - loss: 0.0128 - val_loss: 0.0744\n",
      "Epoch 103/180\n",
      "69/69 [==============================] - 13s 194ms/step - loss: 0.0151 - val_loss: 0.0390\n",
      "Epoch 104/180\n",
      "69/69 [==============================] - 13s 189ms/step - loss: 0.0158 - val_loss: 0.1169\n",
      "Epoch 105/180\n",
      "69/69 [==============================] - 13s 190ms/step - loss: 0.0177 - val_loss: 0.1048\n",
      "Epoch 106/180\n",
      "69/69 [==============================] - 13s 188ms/step - loss: 0.0152 - val_loss: 0.0253\n",
      "Epoch 107/180\n",
      "69/69 [==============================] - 13s 190ms/step - loss: 0.0113 - val_loss: 0.0029\n",
      "Epoch 108/180\n",
      "69/69 [==============================] - 13s 190ms/step - loss: 0.0216 - val_loss: 0.1691\n",
      "Epoch 109/180\n",
      "69/69 [==============================] - 13s 188ms/step - loss: 0.0920 - val_loss: 0.0171\n",
      "Epoch 110/180\n",
      "69/69 [==============================] - 13s 189ms/step - loss: 0.0460 - val_loss: 0.0380\n",
      "Epoch 111/180\n",
      "69/69 [==============================] - 13s 190ms/step - loss: 0.0495 - val_loss: 0.1718\n",
      "Epoch 112/180\n",
      "69/69 [==============================] - 14s 199ms/step - loss: 0.0540 - val_loss: 0.0264\n",
      "Epoch 113/180\n",
      "69/69 [==============================] - 13s 190ms/step - loss: 0.0490 - val_loss: 0.0838\n",
      "Epoch 114/180\n",
      "69/69 [==============================] - 13s 190ms/step - loss: 0.0207 - val_loss: 0.0236\n",
      "Epoch 115/180\n",
      "69/69 [==============================] - 14s 197ms/step - loss: 0.0165 - val_loss: 0.0171\n",
      "Epoch 116/180\n",
      "69/69 [==============================] - 13s 193ms/step - loss: 0.0166 - val_loss: 0.0240\n",
      "Epoch 117/180\n",
      "69/69 [==============================] - 13s 194ms/step - loss: 0.0221 - val_loss: 0.0265\n",
      "Epoch 118/180\n",
      "69/69 [==============================] - 13s 194ms/step - loss: 0.0427 - val_loss: 0.0153\n",
      "Epoch 119/180\n",
      "69/69 [==============================] - 13s 194ms/step - loss: 0.0139 - val_loss: 0.0432\n",
      "Epoch 120/180\n",
      "69/69 [==============================] - 13s 193ms/step - loss: 0.0092 - val_loss: 0.0928\n",
      "Epoch 121/180\n",
      "69/69 [==============================] - 13s 193ms/step - loss: 0.0158 - val_loss: 0.0153\n",
      "Epoch 122/180\n",
      "69/69 [==============================] - 13s 194ms/step - loss: 0.0151 - val_loss: 0.1356\n",
      "Epoch 123/180\n",
      "69/69 [==============================] - 13s 193ms/step - loss: 0.0291 - val_loss: 0.0101\n",
      "Epoch 124/180\n",
      "69/69 [==============================] - 13s 192ms/step - loss: 0.0180 - val_loss: 0.0358\n",
      "Epoch 125/180\n",
      "69/69 [==============================] - 13s 192ms/step - loss: 0.0105 - val_loss: 0.1822\n",
      "Epoch 126/180\n",
      "69/69 [==============================] - 13s 193ms/step - loss: 0.0082 - val_loss: 0.1180\n",
      "Epoch 127/180\n",
      "69/69 [==============================] - 13s 193ms/step - loss: 0.0100 - val_loss: 0.1424\n",
      "Epoch 128/180\n",
      "69/69 [==============================] - 13s 193ms/step - loss: 0.0063 - val_loss: 0.0934\n",
      "Epoch 129/180\n",
      "69/69 [==============================] - 14s 198ms/step - loss: 0.0102 - val_loss: 0.2441\n",
      "Epoch 130/180\n",
      "69/69 [==============================] - 14s 202ms/step - loss: 0.0310 - val_loss: 0.1366\n",
      "Epoch 131/180\n",
      "69/69 [==============================] - 14s 205ms/step - loss: 0.2129 - val_loss: 0.1831\n",
      "Epoch 132/180\n",
      "69/69 [==============================] - 14s 203ms/step - loss: 0.1568 - val_loss: 0.1104\n",
      "Epoch 133/180\n",
      "69/69 [==============================] - 14s 199ms/step - loss: 0.0815 - val_loss: 0.0741\n",
      "Epoch 134/180\n",
      "69/69 [==============================] - 14s 196ms/step - loss: 0.0525 - val_loss: 0.0274\n",
      "Epoch 135/180\n",
      "69/69 [==============================] - 13s 195ms/step - loss: 0.0334 - val_loss: 0.1196\n",
      "Epoch 136/180\n",
      "69/69 [==============================] - 13s 195ms/step - loss: 0.0230 - val_loss: 0.1234\n",
      "Epoch 137/180\n",
      "69/69 [==============================] - 13s 194ms/step - loss: 0.0129 - val_loss: 0.0891\n",
      "Epoch 138/180\n",
      "69/69 [==============================] - 13s 195ms/step - loss: 0.0080 - val_loss: 0.1106\n",
      "Epoch 139/180\n",
      "69/69 [==============================] - 14s 198ms/step - loss: 0.0060 - val_loss: 0.0907\n",
      "Epoch 140/180\n",
      "69/69 [==============================] - 14s 196ms/step - loss: 0.0050 - val_loss: 0.0759\n",
      "Epoch 141/180\n",
      "69/69 [==============================] - 14s 200ms/step - loss: 0.0044 - val_loss: 0.0620\n",
      "Epoch 142/180\n",
      "69/69 [==============================] - 14s 202ms/step - loss: 0.0041 - val_loss: 0.0965\n",
      "Epoch 143/180\n",
      "69/69 [==============================] - 14s 197ms/step - loss: 0.0043 - val_loss: 0.0848\n",
      "Epoch 144/180\n",
      "69/69 [==============================] - 13s 192ms/step - loss: 0.0038 - val_loss: 0.0615\n",
      "Epoch 145/180\n",
      "69/69 [==============================] - 13s 193ms/step - loss: 0.0030 - val_loss: 0.0360\n",
      "Epoch 146/180\n",
      "69/69 [==============================] - 14s 197ms/step - loss: 0.0032 - val_loss: 0.0534\n",
      "Epoch 147/180\n",
      "69/69 [==============================] - 13s 193ms/step - loss: 0.0027 - val_loss: 0.0100\n",
      "Epoch 148/180\n",
      "69/69 [==============================] - 13s 193ms/step - loss: 0.0032 - val_loss: 0.0283\n",
      "Epoch 149/180\n",
      "69/69 [==============================] - 13s 192ms/step - loss: 0.0026 - val_loss: 0.0014\n",
      "Epoch 150/180\n",
      "69/69 [==============================] - 13s 189ms/step - loss: 0.0022 - val_loss: 0.0129\n",
      "Epoch 151/180\n",
      "69/69 [==============================] - 13s 193ms/step - loss: 0.0029 - val_loss: 0.0117\n",
      "Epoch 152/180\n",
      "69/69 [==============================] - 13s 191ms/step - loss: 0.0020 - val_loss: 0.0064\n",
      "Epoch 153/180\n",
      "69/69 [==============================] - 13s 190ms/step - loss: 0.0375 - val_loss: 0.1200\n",
      "Epoch 154/180\n",
      "69/69 [==============================] - 13s 193ms/step - loss: 0.0146 - val_loss: 0.1819\n",
      "Epoch 155/180\n",
      "69/69 [==============================] - 13s 189ms/step - loss: 0.0048 - val_loss: 0.0652\n",
      "Epoch 156/180\n",
      "69/69 [==============================] - 13s 191ms/step - loss: 0.0029 - val_loss: 0.0907\n",
      "Epoch 157/180\n",
      "69/69 [==============================] - 13s 192ms/step - loss: 0.0059 - val_loss: 0.1159\n",
      "Epoch 158/180\n",
      "69/69 [==============================] - 13s 190ms/step - loss: 0.0031 - val_loss: 0.0600\n",
      "Epoch 159/180\n",
      "69/69 [==============================] - 13s 189ms/step - loss: 0.0025 - val_loss: 0.0472\n",
      "Epoch 160/180\n",
      "69/69 [==============================] - 13s 190ms/step - loss: 0.0023 - val_loss: 0.1356\n",
      "Epoch 161/180\n",
      "69/69 [==============================] - 13s 189ms/step - loss: 0.0044 - val_loss: 0.0168\n",
      "Epoch 162/180\n",
      "69/69 [==============================] - 13s 189ms/step - loss: 0.0072 - val_loss: 0.0031\n",
      "Epoch 163/180\n",
      "69/69 [==============================] - 13s 189ms/step - loss: 0.0684 - val_loss: 0.4415\n",
      "Epoch 164/180\n",
      "69/69 [==============================] - 14s 199ms/step - loss: 0.1263 - val_loss: 0.1329\n",
      "Epoch 165/180\n",
      "69/69 [==============================] - 14s 196ms/step - loss: 0.0632 - val_loss: 0.0923\n",
      "Epoch 166/180\n",
      "69/69 [==============================] - 13s 189ms/step - loss: 0.0386 - val_loss: 0.0834\n",
      "Epoch 167/180\n",
      "69/69 [==============================] - 13s 190ms/step - loss: 0.0130 - val_loss: 0.0406\n",
      "Epoch 168/180\n",
      "69/69 [==============================] - 13s 187ms/step - loss: 0.0092 - val_loss: 0.2073\n",
      "Epoch 169/180\n",
      "69/69 [==============================] - 13s 190ms/step - loss: 0.0307 - val_loss: 0.0039\n",
      "Epoch 170/180\n",
      "69/69 [==============================] - 13s 189ms/step - loss: 0.0040 - val_loss: 0.0767\n",
      "Epoch 171/180\n",
      "69/69 [==============================] - 13s 191ms/step - loss: 0.0083 - val_loss: 1.8109e-04\n",
      "Epoch 172/180\n",
      "69/69 [==============================] - 13s 191ms/step - loss: 0.0127 - val_loss: 0.0841\n",
      "Epoch 173/180\n",
      "69/69 [==============================] - 13s 190ms/step - loss: 0.0877 - val_loss: 0.4429\n",
      "Epoch 174/180\n",
      "69/69 [==============================] - 13s 191ms/step - loss: 0.1756 - val_loss: 0.4650\n",
      "Epoch 175/180\n",
      "69/69 [==============================] - 13s 189ms/step - loss: 0.1431 - val_loss: 0.4251\n",
      "Epoch 176/180\n",
      "69/69 [==============================] - 13s 192ms/step - loss: 0.1066 - val_loss: 0.3262\n",
      "Epoch 177/180\n",
      "69/69 [==============================] - 13s 189ms/step - loss: 0.0905 - val_loss: 0.2392\n",
      "Epoch 178/180\n",
      "69/69 [==============================] - 13s 190ms/step - loss: 0.0754 - val_loss: 0.1776\n",
      "Epoch 179/180\n",
      "69/69 [==============================] - 13s 189ms/step - loss: 0.0912 - val_loss: 0.1265\n",
      "Epoch 180/180\n",
      "69/69 [==============================] - 13s 190ms/step - loss: 0.0671 - val_loss: 0.0508\n"
     ]
    }
   ],
   "source": [
    "history = model.fit(X_train, y_train, batch_size=30, epochs=180, verbose=1, validation_data=(X_test, y_test))"
   ]
  },
  {
   "cell_type": "markdown",
   "metadata": {
    "id": "S6ZLWKPlq0Pi"
   },
   "source": [
    "## 모델 저장"
   ]
  },
  {
   "cell_type": "code",
   "execution_count": 39,
   "metadata": {
    "colab": {
     "base_uri": "https://localhost:8080/"
    },
    "executionInfo": {
     "elapsed": 25,
     "status": "ok",
     "timestamp": 1634265855945,
     "user": {
      "displayName": "김성국",
      "photoUrl": "https://lh3.googleusercontent.com/a/default-user=s64",
      "userId": "14454204284131910272"
     },
     "user_tz": -540
    },
    "id": "yL2y4PuK5yne",
    "outputId": "19307bd3-1949-4958-fdee-879de0c9b8c8"
   },
   "outputs": [
    {
     "name": "stdout",
     "output_type": "stream",
     "text": [
      "/gdrive/MyDrive/EM_LSTM\n",
      "/gdrive/MyDrive/EM_LSTM\n"
     ]
    }
   ],
   "source": [
    "%cd '/gdrive/MyDrive/EM_LSTM'\n",
    "model.save('./emo.h5')"
   ]
  },
  {
   "cell_type": "markdown",
   "metadata": {
    "id": "npkgVVNZOast"
   },
   "source": [
    "# 평가"
   ]
  },
  {
   "cell_type": "markdown",
   "metadata": {
    "id": "2SEVAXMxqqh3"
   },
   "source": [
    "## 학습 History"
   ]
  },
  {
   "cell_type": "code",
   "execution_count": 40,
   "metadata": {
    "colab": {
     "base_uri": "https://localhost:8080/",
     "height": 0
    },
    "executionInfo": {
     "elapsed": 15,
     "status": "ok",
     "timestamp": 1634265855947,
     "user": {
      "displayName": "김성국",
      "photoUrl": "https://lh3.googleusercontent.com/a/default-user=s64",
      "userId": "14454204284131910272"
     },
     "user_tz": -540
    },
    "id": "omSoUoOCtoJH",
    "outputId": "2aabb874-138c-4dc8-8ef2-b01b4730889d"
   },
   "outputs": [
    {
     "data": {
      "image/png": "[encoded data removed]",
      "text/plain": [
       "<Figure size 432x288 with 1 Axes>"
      ]
     },
     "metadata": {
      "needs_background": "light"
     },
     "output_type": "display_data"
    }
   ],
   "source": [
    "pyplot.plot(history.history['loss'], label='train')\n",
    "pyplot.plot(history.history['val_loss'], label='test')\n",
    "pyplot.legend()\n",
    "pyplot.show()"
   ]
  },
  {
   "cell_type": "markdown",
   "metadata": {
    "id": "0AYTYHh3rJkg"
   },
   "source": [
    "## Predict 진행"
   ]
  },
  {
   "cell_type": "code",
   "execution_count": 41,
   "metadata": {
    "executionInfo": {
     "elapsed": 13,
     "status": "ok",
     "timestamp": 1634265855948,
     "user": {
      "displayName": "김성국",
      "photoUrl": "https://lh3.googleusercontent.com/a/default-user=s64",
      "userId": "14454204284131910272"
     },
     "user_tz": -540
    },
    "id": "eN7zSqvyrN3r"
   },
   "outputs": [],
   "source": [
    "y_true = np.array(y_test)\n",
    "x_scaled = np.array(X_test)"
   ]
  },
  {
   "cell_type": "code",
   "execution_count": 42,
   "metadata": {
    "executionInfo": {
     "elapsed": 919,
     "status": "ok",
     "timestamp": 1634265856856,
     "user": {
      "displayName": "김성국",
      "photoUrl": "https://lh3.googleusercontent.com/a/default-user=s64",
      "userId": "14454204284131910272"
     },
     "user_tz": -540
    },
    "id": "OVShYrFKOhLl"
   },
   "outputs": [],
   "source": [
    "y_pred = model.predict(x_scaled)"
   ]
  },
  {
   "cell_type": "markdown",
   "metadata": {
    "id": "FAUZRLoorYEt"
   },
   "source": [
    "## argmax 로 예측된 값 정리"
   ]
  },
  {
   "cell_type": "code",
   "execution_count": 43,
   "metadata": {
    "executionInfo": {
     "elapsed": 51,
     "status": "ok",
     "timestamp": 1634265856858,
     "user": {
      "displayName": "김성국",
      "photoUrl": "https://lh3.googleusercontent.com/a/default-user=s64",
      "userId": "14454204284131910272"
     },
     "user_tz": -540
    },
    "id": "4plmm_WvQJaX"
   },
   "outputs": [],
   "source": [
    "y_pred2 = np.argmax(y_pred, axis=1)\n",
    "y_true2 = np.argmax(y_true, axis=1)"
   ]
  },
  {
   "cell_type": "markdown",
   "metadata": {
    "id": "052A9Ohsrtoe"
   },
   "source": [
    "## Confusion matrix"
   ]
  },
  {
   "cell_type": "code",
   "execution_count": 44,
   "metadata": {
    "colab": {
     "base_uri": "https://localhost:8080/",
     "height": 0
    },
    "executionInfo": {
     "elapsed": 47,
     "status": "ok",
     "timestamp": 1634265856859,
     "user": {
      "displayName": "김성국",
      "photoUrl": "https://lh3.googleusercontent.com/a/default-user=s64",
      "userId": "14454204284131910272"
     },
     "user_tz": -540
    },
    "id": "YSP7W2NEoXf5",
    "outputId": "f53f6b67-a2a3-4d95-91df-5e5722d13bd6"
   },
   "outputs": [
    {
     "data": {
      "image/png": "[encoded data removed]",
      "text/plain": [
       "<Figure size 432x288 with 2 Axes>"
      ]
     },
     "metadata": {
      "needs_background": "light"
     },
     "output_type": "display_data"
    }
   ],
   "source": [
    "labels = [\"Bob\", \"Jook\", \"Mium\"]\n",
    "\n",
    "cm = confusion_matrix(y_true2, y_pred2)\n",
    "\n",
    "disp = ConfusionMatrixDisplay(confusion_matrix=cm, display_labels=labels)\n",
    "\n",
    "disp.plot(cmap=plt.cm.Blues)\n",
    "plt.show()"
   ]
  },
  {
   "cell_type": "markdown",
   "metadata": {
    "id": "6L1sNWhxsCJE"
   },
   "source": [
    "## Accuracy"
   ]
  },
  {
   "cell_type": "code",
   "execution_count": 45,
   "metadata": {
    "colab": {
     "base_uri": "https://localhost:8080/"
    },
    "executionInfo": {
     "elapsed": 40,
     "status": "ok",
     "timestamp": 1634265856860,
     "user": {
      "displayName": "김성국",
      "photoUrl": "https://lh3.googleusercontent.com/a/default-user=s64",
      "userId": "14454204284131910272"
     },
     "user_tz": -540
    },
    "id": "itZgUJaXEQ9E",
    "outputId": "d628d3cd-99aa-40aa-a83c-8cd9f625adfd"
   },
   "outputs": [
    {
     "name": "stdout",
     "output_type": "stream",
     "text": [
      "0.9383561643835616\n"
     ]
    }
   ],
   "source": [
    "print(accuracy_score(y_true2, y_pred2))"
   ]
  }
 ],
 "metadata": {
  "colab": {
   "authorship_tag": "ABX9TyMGYtYk6JryX7yK3KGe4uw+",
   "collapsed_sections": [],
   "name": "emo_LSTM_letsgo.ipynb",
   "provenance": [],
   "toc_visible": true
  },
  "kernelspec": {
   "display_name": "Python 3",
   "language": "python",
   "name": "python3"
  },
  "language_info": {
   "codemirror_mode": {
    "name": "ipython",
    "version": 3
   },
   "file_extension": ".py",
   "mimetype": "text/x-python",
   "name": "python",
   "nbconvert_exporter": "python",
   "pygments_lexer": "ipython3",
   "version": "3.6.9"
  }
 },
 "nbformat": 4,
 "nbformat_minor": 4
}
