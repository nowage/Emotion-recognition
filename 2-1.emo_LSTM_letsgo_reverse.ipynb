{
 "cells": [
  {
   "cell_type": "markdown",
   "metadata": {
    "id": "tImylazBwcbW"
   },
   "source": [
    "## 0. import 모음"
   ]
  },
  {
   "cell_type": "code",
   "execution_count": 24,
   "metadata": {
    "executionInfo": {
     "elapsed": 312,
     "status": "ok",
     "timestamp": 1634268288159,
     "user": {
      "displayName": "김성국",
      "photoUrl": "https://lh3.googleusercontent.com/a/default-user=s64",
      "userId": "14454204284131910272"
     },
     "user_tz": -540
    },
    "id": "NbyqPCYRwEHL"
   },
   "outputs": [],
   "source": [
    "from google.colab import drive\n",
    "import pandas as pd\n",
    "import numpy as np\n",
    "import os\n",
    "from sklearn.model_selection import train_test_split\n",
    "from tensorflow import keras\n",
    "from keras.layers import LSTM\n",
    "from keras.models import Sequential\n",
    "from keras.layers import Dense\n",
    "import keras.backend as K\n",
    "from keras.callbacks import EarlyStopping\n",
    "from sklearn.metrics import ConfusionMatrixDisplay\n",
    "from sklearn.metrics import confusion_matrix\n",
    "import matplotlib.pyplot as plt\n",
    "from sklearn.metrics import accuracy_score, recall_score, precision_score, f1_score"
   ]
  },
  {
   "cell_type": "markdown",
   "metadata": {
    "id": "q2cPoV9JG2AO"
   },
   "source": [
    "# 1. 구글마운트"
   ]
  },
  {
   "cell_type": "code",
   "execution_count": 2,
   "metadata": {
    "colab": {
     "base_uri": "https://localhost:8080/"
    },
    "executionInfo": {
     "elapsed": 43,
     "status": "ok",
     "timestamp": 1634265202785,
     "user": {
      "displayName": "김성국",
      "photoUrl": "https://lh3.googleusercontent.com/a/default-user=s64",
      "userId": "14454204284131910272"
     },
     "user_tz": -540
    },
    "id": "zQwKdss_-jRm",
    "outputId": "57fb55eb-205a-442d-ca7f-6d11bb0565c1"
   },
   "outputs": [
    {
     "name": "stdout",
     "output_type": "stream",
     "text": [
      "Drive already mounted at /gdrive; to attempt to forcibly remount, call drive.mount(\"/gdrive\", force_remount=True).\n"
     ]
    }
   ],
   "source": [
    "drive.mount('/gdrive')"
   ]
  },
  {
   "cell_type": "markdown",
   "metadata": {
    "id": "9sF6RMwguZur"
   },
   "source": [
    "# 2. 데이터셋 만들기"
   ]
  },
  {
   "cell_type": "markdown",
   "metadata": {
    "id": "yzBo9TSyG_Eu"
   },
   "source": [
    "## 데이터 위치로 이동"
   ]
  },
  {
   "cell_type": "code",
   "execution_count": 3,
   "metadata": {
    "colab": {
     "base_uri": "https://localhost:8080/"
    },
    "executionInfo": {
     "elapsed": 36,
     "status": "ok",
     "timestamp": 1634265202786,
     "user": {
      "displayName": "김성국",
      "photoUrl": "https://lh3.googleusercontent.com/a/default-user=s64",
      "userId": "14454204284131910272"
     },
     "user_tz": -540
    },
    "id": "a4bOvVbtBEAk",
    "outputId": "c97b28b2-ca9d-407c-99d1-f936089d9399"
   },
   "outputs": [
    {
     "name": "stdout",
     "output_type": "stream",
     "text": [
      "/gdrive/MyDrive/EM_LSTM/data\n"
     ]
    }
   ],
   "source": [
    "%cd '/gdrive/MyDrive/EM_LSTM/data'"
   ]
  },
  {
   "cell_type": "markdown",
   "metadata": {
    "id": "d39XwKEqHJgU"
   },
   "source": [
    "## file list 가져오기"
   ]
  },
  {
   "cell_type": "code",
   "execution_count": 4,
   "metadata": {
    "executionInfo": {
     "elapsed": 34,
     "status": "ok",
     "timestamp": 1634265202786,
     "user": {
      "displayName": "김성국",
      "photoUrl": "https://lh3.googleusercontent.com/a/default-user=s64",
      "userId": "14454204284131910272"
     },
     "user_tz": -540
    },
    "id": "hZTf5tnd8egj"
   },
   "outputs": [],
   "source": [
    "path_dir = './'\n",
    "file_list = os.listdir(path_dir)"
   ]
  },
  {
   "cell_type": "markdown",
   "metadata": {
    "id": "oRAbRFkvphvC"
   },
   "source": [
    "## file 불러오기"
   ]
  },
  {
   "cell_type": "code",
   "execution_count": 5,
   "metadata": {
    "executionInfo": {
     "elapsed": 34,
     "status": "ok",
     "timestamp": 1634265202786,
     "user": {
      "displayName": "김성국",
      "photoUrl": "https://lh3.googleusercontent.com/a/default-user=s64",
      "userId": "14454204284131910272"
     },
     "user_tz": -540
    },
    "id": "3ITD6LHbDVVK"
   },
   "outputs": [],
   "source": [
    "em_x = []\n",
    "em_y = []\n",
    "for i in file_list :\n",
    "  tempstr = './'+i\n",
    "  em_x.append(np.array(pd.read_csv(tempstr)))\n",
    "  #파일을 불러오면서 맨 앞 글자를 가져와 y 로 씀\n",
    "  em_y.append(i[0])"
   ]
  },
  {
   "cell_type": "code",
   "execution_count": 6,
   "metadata": {
    "colab": {
     "base_uri": "https://localhost:8080/"
    },
    "executionInfo": {
     "elapsed": 34,
     "status": "ok",
     "timestamp": 1634265202787,
     "user": {
      "displayName": "김성국",
      "photoUrl": "https://lh3.googleusercontent.com/a/default-user=s64",
      "userId": "14454204284131910272"
     },
     "user_tz": -540
    },
    "id": "PQRx1QT4MLAv",
    "outputId": "94f018fb-5465-4369-a10f-e35561134a74"
   },
   "outputs": [
    {
     "name": "stderr",
     "output_type": "stream",
     "text": [
      "/usr/local/lib/python3.7/dist-packages/ipykernel_launcher.py:3: VisibleDeprecationWarning: Creating an ndarray from ragged nested sequences (which is a list-or-tuple of lists-or-tuples-or ndarrays with different lengths or shapes) is deprecated. If you meant to do this, you must specify 'dtype=object' when creating the ndarray\n",
      "  This is separate from the ipykernel package so we can avoid doing imports until\n"
     ]
    },
    {
     "data": {
      "text/plain": [
       "(202, 7)"
      ]
     },
     "execution_count": 6,
     "metadata": {},
     "output_type": "execute_result"
    }
   ],
   "source": [
    "# 데이터를 다시 불러와야 하거나 로우데이터로 뭔가 확인을 해야할 수 있으므로 em_x 는 그대로 두고 em_x2 생성\n",
    "# 하는 김에 np.array로 해서 shape 도 봄.\n",
    "em_x2 = np.array(em_x)\n",
    "em_x2[0].shape"
   ]
  },
  {
   "cell_type": "markdown",
   "metadata": {
    "id": "8vWIU8PgqFf7"
   },
   "source": [
    "## y 값 인코딩"
   ]
  },
  {
   "cell_type": "code",
   "execution_count": 7,
   "metadata": {
    "colab": {
     "base_uri": "https://localhost:8080/"
    },
    "executionInfo": {
     "elapsed": 30,
     "status": "ok",
     "timestamp": 1634265202787,
     "user": {
      "displayName": "김성국",
      "photoUrl": "https://lh3.googleusercontent.com/a/default-user=s64",
      "userId": "14454204284131910272"
     },
     "user_tz": -540
    },
    "id": "KEWkmvdlOl4_",
    "outputId": "821a2454-92c6-4e8c-929d-f2198265ac22"
   },
   "outputs": [
    {
     "name": "stdout",
     "output_type": "stream",
     "text": [
      "42\n"
     ]
    }
   ],
   "source": [
    "# 불러온 파일 갯수와 같은지 한번 체크\n",
    "print(len(em_y))"
   ]
  },
  {
   "cell_type": "code",
   "execution_count": 8,
   "metadata": {
    "executionInfo": {
     "elapsed": 25,
     "status": "ok",
     "timestamp": 1634265202788,
     "user": {
      "displayName": "김성국",
      "photoUrl": "https://lh3.googleusercontent.com/a/default-user=s64",
      "userId": "14454204284131910272"
     },
     "user_tz": -540
    },
    "id": "ZGBcEf1hPAlb"
   },
   "outputs": [],
   "source": [
    "reshape_ha = list(em_y)"
   ]
  },
  {
   "cell_type": "code",
   "execution_count": 9,
   "metadata": {
    "executionInfo": {
     "elapsed": 24,
     "status": "ok",
     "timestamp": 1634265202788,
     "user": {
      "displayName": "김성국",
      "photoUrl": "https://lh3.googleusercontent.com/a/default-user=s64",
      "userId": "14454204284131910272"
     },
     "user_tz": -540
    },
    "id": "YZbKGtn7Gwve"
   },
   "outputs": [],
   "source": [
    "# 위에 확인된 enc 가 a, b, c 순서가 아닌 경우 실행하여 순서를 맞춰줌.\n",
    "# dec 도 세팅해야할텐데..\n",
    "enc = {'a': 0, 'b': 1, 'c': 2}"
   ]
  },
  {
   "cell_type": "markdown",
   "metadata": {
    "id": "9FrdSUA-tXMq"
   },
   "source": [
    "- 인코딩 잘 됐는지 확인"
   ]
  },
  {
   "cell_type": "code",
   "execution_count": 10,
   "metadata": {
    "executionInfo": {
     "elapsed": 24,
     "status": "ok",
     "timestamp": 1634265202788,
     "user": {
      "displayName": "김성국",
      "photoUrl": "https://lh3.googleusercontent.com/a/default-user=s64",
      "userId": "14454204284131910272"
     },
     "user_tz": -540
    },
    "id": "CmVIDv7xPNs-"
   },
   "outputs": [],
   "source": [
    "lst_e = [enc[i] for i in reshape_ha]"
   ]
  },
  {
   "cell_type": "markdown",
   "metadata": {
    "id": "srw4e9UXui1N"
   },
   "source": [
    "- em_x 와 마찬가지로 em_y 보존을 위해 em_y2 생성"
   ]
  },
  {
   "cell_type": "code",
   "execution_count": 11,
   "metadata": {
    "executionInfo": {
     "elapsed": 25,
     "status": "ok",
     "timestamp": 1634265202789,
     "user": {
      "displayName": "김성국",
      "photoUrl": "https://lh3.googleusercontent.com/a/default-user=s64",
      "userId": "14454204284131910272"
     },
     "user_tz": -540
    },
    "id": "AG4HQhsOud4L"
   },
   "outputs": [],
   "source": [
    "em_y2 = lst_e"
   ]
  },
  {
   "cell_type": "markdown",
   "metadata": {
    "id": "5HYr2nYMdDFb"
   },
   "source": [
    "# EDA"
   ]
  },
  {
   "cell_type": "markdown",
   "metadata": {
    "id": "FJrrUy6XqUG8"
   },
   "source": [
    "# 학습형태로 만들어주기\n",
    "- 100개 씩 끊어서 LSTM 에서 학습할 수 있게 만들어 줌."
   ]
  },
  {
   "cell_type": "code",
   "execution_count": 12,
   "metadata": {
    "colab": {
     "base_uri": "https://localhost:8080/"
    },
    "executionInfo": {
     "elapsed": 25,
     "status": "ok",
     "timestamp": 1634265202790,
     "user": {
      "displayName": "김성국",
      "photoUrl": "https://lh3.googleusercontent.com/a/default-user=s64",
      "userId": "14454204284131910272"
     },
     "user_tz": -540
    },
    "id": "t54jrnOGRVPK",
    "outputId": "719cc04e-b157-4cb9-ce98-61e1ddac236f"
   },
   "outputs": [
    {
     "name": "stdout",
     "output_type": "stream",
     "text": [
      "(2058, 100, 7) (2058,)\n"
     ]
    }
   ],
   "source": [
    "# 뒤에서 끊어주기\n",
    "# for 문을 통해 frames 단위로 학습을 하는 부분임.\n",
    "npx = []\n",
    "npy = []\n",
    "frames = 100\n",
    "for fileidx in range(0,len(em_x2)):\n",
    "  # 파일당 최대 갯수를 지정\n",
    "  # endpoint = int (em_x2[fileidx].shape[0]) \n",
    "  endpoint = 50\n",
    "  for i in range(1,endpoint,1):\n",
    "    i = (i +frames)* -1\n",
    "    idx = i+100\n",
    "    npx.append(np.array(em_x2[fileidx][i:idx]))\n",
    "    npy.append(np.array(em_y2[fileidx]))\n",
    "npx = np.array(npx)\n",
    "npy = np.array(npy)\n",
    "print(npx.shape, npy.shape)"
   ]
  },
  {
   "cell_type": "markdown",
   "metadata": {
    "id": "IJK6MFuatlcp"
   },
   "source": [
    "## y 값 원핫 인코딩"
   ]
  },
  {
   "cell_type": "code",
   "execution_count": 13,
   "metadata": {
    "executionInfo": {
     "elapsed": 24,
     "status": "ok",
     "timestamp": 1634265202791,
     "user": {
      "displayName": "김성국",
      "photoUrl": "https://lh3.googleusercontent.com/a/default-user=s64",
      "userId": "14454204284131910272"
     },
     "user_tz": -540
    },
    "id": "-518_ZSJpqFq"
   },
   "outputs": [],
   "source": [
    "ohe=np.eye( len(enc.keys() ))"
   ]
  },
  {
   "cell_type": "code",
   "execution_count": 14,
   "metadata": {
    "executionInfo": {
     "elapsed": 25,
     "status": "ok",
     "timestamp": 1634265202792,
     "user": {
      "displayName": "김성국",
      "photoUrl": "https://lh3.googleusercontent.com/a/default-user=s64",
      "userId": "14454204284131910272"
     },
     "user_tz": -540
    },
    "id": "PKgLvopmpuA-"
   },
   "outputs": [],
   "source": [
    "temp_elst = [ohe[i] for i in npy]"
   ]
  },
  {
   "cell_type": "code",
   "execution_count": 15,
   "metadata": {
    "executionInfo": {
     "elapsed": 25,
     "status": "ok",
     "timestamp": 1634265202792,
     "user": {
      "displayName": "김성국",
      "photoUrl": "https://lh3.googleusercontent.com/a/default-user=s64",
      "userId": "14454204284131910272"
     },
     "user_tz": -540
    },
    "id": "tP2oKRzjOoO_"
   },
   "outputs": [],
   "source": [
    "npy = np.array(temp_elst)"
   ]
  },
  {
   "cell_type": "code",
   "execution_count": 16,
   "metadata": {
    "colab": {
     "base_uri": "https://localhost:8080/"
    },
    "executionInfo": {
     "elapsed": 24,
     "status": "ok",
     "timestamp": 1634265202792,
     "user": {
      "displayName": "김성국",
      "photoUrl": "https://lh3.googleusercontent.com/a/default-user=s64",
      "userId": "14454204284131910272"
     },
     "user_tz": -540
    },
    "id": "0Jl4lvrh7P1t",
    "outputId": "8e328021-e4a6-4e12-bb32-f8b0e7f3f20b"
   },
   "outputs": [
    {
     "data": {
      "text/plain": [
       "(2058, 3)"
      ]
     },
     "execution_count": 16,
     "metadata": {},
     "output_type": "execute_result"
    }
   ],
   "source": [
    "npy.shape"
   ]
  },
  {
   "cell_type": "markdown",
   "metadata": {
    "id": "xmoeiV7Nwx60"
   },
   "source": [
    "## 정답 분포 확인"
   ]
  },
  {
   "cell_type": "code",
   "execution_count": 17,
   "metadata": {
    "colab": {
     "base_uri": "https://localhost:8080/"
    },
    "executionInfo": {
     "elapsed": 23,
     "status": "ok",
     "timestamp": 1634265202793,
     "user": {
      "displayName": "김성국",
      "photoUrl": "https://lh3.googleusercontent.com/a/default-user=s64",
      "userId": "14454204284131910272"
     },
     "user_tz": -540
    },
    "id": "dWROCk1tM93U",
    "outputId": "2d90ac1d-ae2c-428a-f560-53b38df4f723"
   },
   "outputs": [
    {
     "data": {
      "text/plain": [
       "0    1    2  \n",
       "1.0  0.0  0.0    686\n",
       "0.0  1.0  0.0    686\n",
       "     0.0  1.0    686\n",
       "dtype: int64"
      ]
     },
     "execution_count": 17,
     "metadata": {},
     "output_type": "execute_result"
    }
   ],
   "source": [
    "pdy = pd.DataFrame(npy)\n",
    "pdy.value_counts()"
   ]
  },
  {
   "cell_type": "markdown",
   "metadata": {
    "id": "2-1QEefU0wxu"
   },
   "source": [
    "## 셔플링"
   ]
  },
  {
   "cell_type": "code",
   "execution_count": 18,
   "metadata": {
    "executionInfo": {
     "elapsed": 19,
     "status": "ok",
     "timestamp": 1634265202794,
     "user": {
      "displayName": "김성국",
      "photoUrl": "https://lh3.googleusercontent.com/a/default-user=s64",
      "userId": "14454204284131910272"
     },
     "user_tz": -540
    },
    "id": "cXkXx7c20wdK"
   },
   "outputs": [],
   "source": [
    "X_train, X_test, y_train, y_test = train_test_split(npx, npy, \n",
    "                                                    test_size=0.3, \n",
    "                                                    shuffle=True, \n",
    "                                                    random_state=1004)"
   ]
  },
  {
   "cell_type": "code",
   "execution_count": 19,
   "metadata": {
    "colab": {
     "base_uri": "https://localhost:8080/"
    },
    "executionInfo": {
     "elapsed": 18,
     "status": "ok",
     "timestamp": 1634265202794,
     "user": {
      "displayName": "김성국",
      "photoUrl": "https://lh3.googleusercontent.com/a/default-user=s64",
      "userId": "14454204284131910272"
     },
     "user_tz": -540
    },
    "id": "ZPnjZgm5LAfZ",
    "outputId": "ef64571d-0da6-4369-90ea-b8e33a28fbeb"
   },
   "outputs": [
    {
     "name": "stdout",
     "output_type": "stream",
     "text": [
      "1440 618 1440 618\n"
     ]
    }
   ],
   "source": [
    "print (len(X_train),len(X_test),len(y_train),len(y_test))"
   ]
  },
  {
   "cell_type": "markdown",
   "metadata": {
    "id": "W3SZ4sbeLAOv"
   },
   "source": [
    "# 4. LSTM 모델 만들기"
   ]
  },
  {
   "cell_type": "markdown",
   "metadata": {
    "id": "XzGElfAuqxgs"
   },
   "source": [
    "## 모델 구성\n",
    "- 들어오는 데이터의 약 2배 이상의 히든레이어 생성\n",
    "- y 값에 맞춰 3 개를 softmax 형태로 아웃풋 지정"
   ]
  },
  {
   "cell_type": "code",
   "execution_count": 20,
   "metadata": {
    "colab": {
     "base_uri": "https://localhost:8080/"
    },
    "executionInfo": {
     "elapsed": 629,
     "status": "ok",
     "timestamp": 1634265203408,
     "user": {
      "displayName": "김성국",
      "photoUrl": "https://lh3.googleusercontent.com/a/default-user=s64",
      "userId": "14454204284131910272"
     },
     "user_tz": -540
    },
    "id": "NXhNoazKLETj",
    "outputId": "83f7c783-4fd0-4119-e784-cae13373b5b5"
   },
   "outputs": [
    {
     "name": "stdout",
     "output_type": "stream",
     "text": [
      "Model: \"sequential\"\n",
      "_________________________________________________________________\n",
      "Layer (type)                 Output Shape              Param #   \n",
      "=================================================================\n",
      "lstm (LSTM)                  (None, 200)               166400    \n",
      "_________________________________________________________________\n",
      "dense (Dense)                (None, 3)                 603       \n",
      "=================================================================\n",
      "Total params: 167,003\n",
      "Trainable params: 167,003\n",
      "Non-trainable params: 0\n",
      "_________________________________________________________________\n"
     ]
    }
   ],
   "source": [
    "\n",
    "K.clear_session()\n",
    "model = Sequential() # Sequeatial Model \n",
    "model.add(LSTM(200, input_shape=( frames,  em_x2[0].shape[1]),activation='sigmoid')) # (timestep, feature) \n",
    "model.add(Dense(3,activation='softmax')) # output = 1\n",
    "# admax = keras.optimizers.Adamax(learning_rate=0.12, beta_1=0.9, beta_2=0.999, epsilon=None, decay=0.0)\n",
    "# model.compile(optimizer=admax, loss='mse')\n",
    "#admax = keras.optimizers.Adamax(learning_rate=0.12, beta_1=0.9, beta_2=0.999, epsilon=None, decay=0.0)\n",
    "model.compile(loss='mse', optimizer=\"adam\")\n",
    "\n",
    "model.summary()"
   ]
  },
  {
   "cell_type": "code",
   "execution_count": 21,
   "metadata": {
    "colab": {
     "base_uri": "https://localhost:8080/"
    },
    "executionInfo": {
     "elapsed": 922682,
     "status": "ok",
     "timestamp": 1634266126077,
     "user": {
      "displayName": "김성국",
      "photoUrl": "https://lh3.googleusercontent.com/a/default-user=s64",
      "userId": "14454204284131910272"
     },
     "user_tz": -540
    },
    "id": "TBjwXVWwgjrp",
    "outputId": "b06769a6-79f7-49f0-a9d6-a309111e7296"
   },
   "outputs": [
    {
     "name": "stdout",
     "output_type": "stream",
     "text": [
      "Epoch 1/100\n",
      "48/48 [==============================] - 11s 206ms/step - loss: 0.2254 - val_loss: 0.2261\n",
      "Epoch 2/100\n",
      "48/48 [==============================] - 9s 190ms/step - loss: 0.2244 - val_loss: 0.2233\n",
      "Epoch 3/100\n",
      "48/48 [==============================] - 9s 188ms/step - loss: 0.2243 - val_loss: 0.2220\n",
      "Epoch 4/100\n",
      "48/48 [==============================] - 9s 186ms/step - loss: 0.2232 - val_loss: 0.2286\n",
      "Epoch 5/100\n",
      "48/48 [==============================] - 9s 190ms/step - loss: 0.2227 - val_loss: 0.2258\n",
      "Epoch 6/100\n",
      "48/48 [==============================] - 9s 190ms/step - loss: 0.2236 - val_loss: 0.2215\n",
      "Epoch 7/100\n",
      "48/48 [==============================] - 9s 187ms/step - loss: 0.2224 - val_loss: 0.2252\n",
      "Epoch 8/100\n",
      "48/48 [==============================] - 9s 185ms/step - loss: 0.2238 - val_loss: 0.2215\n",
      "Epoch 9/100\n",
      "48/48 [==============================] - 9s 190ms/step - loss: 0.2214 - val_loss: 0.2220\n",
      "Epoch 10/100\n",
      "48/48 [==============================] - 9s 193ms/step - loss: 0.2209 - val_loss: 0.2261\n",
      "Epoch 11/100\n",
      "48/48 [==============================] - 9s 188ms/step - loss: 0.2207 - val_loss: 0.2222\n",
      "Epoch 12/100\n",
      "48/48 [==============================] - 9s 189ms/step - loss: 0.2208 - val_loss: 0.2221\n",
      "Epoch 13/100\n",
      "48/48 [==============================] - 9s 189ms/step - loss: 0.2213 - val_loss: 0.2202\n",
      "Epoch 14/100\n",
      "48/48 [==============================] - 9s 189ms/step - loss: 0.2207 - val_loss: 0.2197\n",
      "Epoch 15/100\n",
      "48/48 [==============================] - 9s 189ms/step - loss: 0.2197 - val_loss: 0.2219\n",
      "Epoch 16/100\n",
      "48/48 [==============================] - 9s 188ms/step - loss: 0.2198 - val_loss: 0.2206\n",
      "Epoch 17/100\n",
      "48/48 [==============================] - 9s 189ms/step - loss: 0.2191 - val_loss: 0.2192\n",
      "Epoch 18/100\n",
      "48/48 [==============================] - 9s 191ms/step - loss: 0.2187 - val_loss: 0.2217\n",
      "Epoch 19/100\n",
      "48/48 [==============================] - 9s 189ms/step - loss: 0.2203 - val_loss: 0.2235\n",
      "Epoch 20/100\n",
      "48/48 [==============================] - 9s 187ms/step - loss: 0.2219 - val_loss: 0.2232\n",
      "Epoch 21/100\n",
      "48/48 [==============================] - 9s 191ms/step - loss: 0.2185 - val_loss: 0.2192\n",
      "Epoch 22/100\n",
      "48/48 [==============================] - 9s 195ms/step - loss: 0.2183 - val_loss: 0.2186\n",
      "Epoch 23/100\n",
      "48/48 [==============================] - 9s 190ms/step - loss: 0.2176 - val_loss: 0.2244\n",
      "Epoch 24/100\n",
      "48/48 [==============================] - 9s 187ms/step - loss: 0.2179 - val_loss: 0.2188\n",
      "Epoch 25/100\n",
      "48/48 [==============================] - 9s 186ms/step - loss: 0.2165 - val_loss: 0.2194\n",
      "Epoch 26/100\n",
      "48/48 [==============================] - 9s 186ms/step - loss: 0.2176 - val_loss: 0.2221\n",
      "Epoch 27/100\n",
      "48/48 [==============================] - 9s 186ms/step - loss: 0.2156 - val_loss: 0.2159\n",
      "Epoch 28/100\n",
      "48/48 [==============================] - 9s 190ms/step - loss: 0.2143 - val_loss: 0.2147\n",
      "Epoch 29/100\n",
      "48/48 [==============================] - 9s 188ms/step - loss: 0.2140 - val_loss: 0.2149\n",
      "Epoch 30/100\n",
      "48/48 [==============================] - 9s 187ms/step - loss: 0.2131 - val_loss: 0.2136\n",
      "Epoch 31/100\n",
      "48/48 [==============================] - 9s 195ms/step - loss: 0.2141 - val_loss: 0.2151\n",
      "Epoch 32/100\n",
      "48/48 [==============================] - 9s 191ms/step - loss: 0.2139 - val_loss: 0.2207\n",
      "Epoch 33/100\n",
      "48/48 [==============================] - 9s 187ms/step - loss: 0.2156 - val_loss: 0.2213\n",
      "Epoch 34/100\n",
      "48/48 [==============================] - 9s 188ms/step - loss: 0.2104 - val_loss: 0.2138\n",
      "Epoch 35/100\n",
      "48/48 [==============================] - 9s 193ms/step - loss: 0.2121 - val_loss: 0.2126\n",
      "Epoch 36/100\n",
      "48/48 [==============================] - 9s 184ms/step - loss: 0.2106 - val_loss: 0.2120\n",
      "Epoch 37/100\n",
      "48/48 [==============================] - 9s 190ms/step - loss: 0.2103 - val_loss: 0.2210\n",
      "Epoch 38/100\n",
      "48/48 [==============================] - 9s 186ms/step - loss: 0.2095 - val_loss: 0.2111\n",
      "Epoch 39/100\n",
      "48/48 [==============================] - 9s 186ms/step - loss: 0.2084 - val_loss: 0.2082\n",
      "Epoch 40/100\n",
      "48/48 [==============================] - 9s 188ms/step - loss: 0.2082 - val_loss: 0.2099\n",
      "Epoch 41/100\n",
      "48/48 [==============================] - 9s 192ms/step - loss: 0.2061 - val_loss: 0.2063\n",
      "Epoch 42/100\n",
      "48/48 [==============================] - 9s 187ms/step - loss: 0.2077 - val_loss: 0.2146\n",
      "Epoch 43/100\n",
      "48/48 [==============================] - 9s 186ms/step - loss: 0.2051 - val_loss: 0.2267\n",
      "Epoch 44/100\n",
      "48/48 [==============================] - 9s 186ms/step - loss: 0.2095 - val_loss: 0.2040\n",
      "Epoch 45/100\n",
      "48/48 [==============================] - 9s 188ms/step - loss: 0.2056 - val_loss: 0.2118\n",
      "Epoch 46/100\n",
      "48/48 [==============================] - 9s 188ms/step - loss: 0.2079 - val_loss: 0.2052\n",
      "Epoch 47/100\n",
      "48/48 [==============================] - 9s 189ms/step - loss: 0.2004 - val_loss: 0.2056\n",
      "Epoch 48/100\n",
      "48/48 [==============================] - 9s 188ms/step - loss: 0.2084 - val_loss: 0.2082\n",
      "Epoch 49/100\n",
      "48/48 [==============================] - 9s 187ms/step - loss: 0.2082 - val_loss: 0.2067\n",
      "Epoch 50/100\n",
      "48/48 [==============================] - 9s 194ms/step - loss: 0.2020 - val_loss: 0.2075\n",
      "Epoch 51/100\n",
      "48/48 [==============================] - 9s 188ms/step - loss: 0.2030 - val_loss: 0.2066\n",
      "Epoch 52/100\n",
      "48/48 [==============================] - 9s 187ms/step - loss: 0.2015 - val_loss: 0.2024\n",
      "Epoch 53/100\n",
      "48/48 [==============================] - 9s 189ms/step - loss: 0.1984 - val_loss: 0.2205\n",
      "Epoch 54/100\n",
      "48/48 [==============================] - 9s 188ms/step - loss: 0.2019 - val_loss: 0.2008\n",
      "Epoch 55/100\n",
      "48/48 [==============================] - 9s 187ms/step - loss: 0.1999 - val_loss: 0.2005\n",
      "Epoch 56/100\n",
      "48/48 [==============================] - 9s 187ms/step - loss: 0.2024 - val_loss: 0.2004\n",
      "Epoch 57/100\n",
      "48/48 [==============================] - 9s 188ms/step - loss: 0.1975 - val_loss: 0.2029\n",
      "Epoch 58/100\n",
      "48/48 [==============================] - 9s 192ms/step - loss: 0.1968 - val_loss: 0.2060\n",
      "Epoch 59/100\n",
      "48/48 [==============================] - 9s 189ms/step - loss: 0.2002 - val_loss: 0.2016\n",
      "Epoch 60/100\n",
      "48/48 [==============================] - 9s 191ms/step - loss: 0.1961 - val_loss: 0.1994\n",
      "Epoch 61/100\n",
      "48/48 [==============================] - 9s 192ms/step - loss: 0.1997 - val_loss: 0.2001\n",
      "Epoch 62/100\n",
      "48/48 [==============================] - 9s 188ms/step - loss: 0.2003 - val_loss: 0.2122\n",
      "Epoch 63/100\n",
      "48/48 [==============================] - 9s 183ms/step - loss: 0.1973 - val_loss: 0.1985\n",
      "Epoch 64/100\n",
      "48/48 [==============================] - 9s 188ms/step - loss: 0.1951 - val_loss: 0.2002\n",
      "Epoch 65/100\n",
      "48/48 [==============================] - 9s 190ms/step - loss: 0.1943 - val_loss: 0.1929\n",
      "Epoch 66/100\n",
      "48/48 [==============================] - 9s 184ms/step - loss: 0.1882 - val_loss: 0.1942\n",
      "Epoch 67/100\n",
      "48/48 [==============================] - 9s 189ms/step - loss: 0.1830 - val_loss: 0.1895\n",
      "Epoch 68/100\n",
      "48/48 [==============================] - 9s 188ms/step - loss: 0.1834 - val_loss: 0.1900\n",
      "Epoch 69/100\n",
      "48/48 [==============================] - 9s 189ms/step - loss: 0.1849 - val_loss: 0.2071\n",
      "Epoch 70/100\n",
      "48/48 [==============================] - 9s 187ms/step - loss: 0.1827 - val_loss: 0.1925\n",
      "Epoch 71/100\n",
      "48/48 [==============================] - 9s 185ms/step - loss: 0.1874 - val_loss: 0.1957\n",
      "Epoch 72/100\n",
      "48/48 [==============================] - 9s 188ms/step - loss: 0.1783 - val_loss: 0.1870\n",
      "Epoch 73/100\n",
      "48/48 [==============================] - 9s 189ms/step - loss: 0.1775 - val_loss: 0.1880\n",
      "Epoch 74/100\n",
      "48/48 [==============================] - 9s 194ms/step - loss: 0.1761 - val_loss: 0.1784\n",
      "Epoch 75/100\n",
      "48/48 [==============================] - 9s 190ms/step - loss: 0.1793 - val_loss: 0.1797\n",
      "Epoch 76/100\n",
      "48/48 [==============================] - 9s 193ms/step - loss: 0.1721 - val_loss: 0.2061\n",
      "Epoch 77/100\n",
      "48/48 [==============================] - 9s 190ms/step - loss: 0.1721 - val_loss: 0.1730\n",
      "Epoch 78/100\n",
      "48/48 [==============================] - 9s 191ms/step - loss: 0.1679 - val_loss: 0.1775\n",
      "Epoch 79/100\n",
      "48/48 [==============================] - 9s 187ms/step - loss: 0.1776 - val_loss: 0.1783\n",
      "Epoch 80/100\n",
      "48/48 [==============================] - 9s 194ms/step - loss: 0.1592 - val_loss: 0.1683\n",
      "Epoch 81/100\n",
      "48/48 [==============================] - 9s 189ms/step - loss: 0.1557 - val_loss: 0.1616\n",
      "Epoch 82/100\n",
      "48/48 [==============================] - 9s 193ms/step - loss: 0.1586 - val_loss: 0.2009\n",
      "Epoch 83/100\n",
      "48/48 [==============================] - 9s 192ms/step - loss: 0.1601 - val_loss: 0.1616\n",
      "Epoch 84/100\n",
      "48/48 [==============================] - 9s 192ms/step - loss: 0.1528 - val_loss: 0.1603\n",
      "Epoch 85/100\n",
      "48/48 [==============================] - 9s 193ms/step - loss: 0.1551 - val_loss: 0.1651\n",
      "Epoch 86/100\n",
      "48/48 [==============================] - 9s 190ms/step - loss: 0.1425 - val_loss: 0.1666\n",
      "Epoch 87/100\n",
      "48/48 [==============================] - 9s 188ms/step - loss: 0.1702 - val_loss: 0.1957\n",
      "Epoch 88/100\n",
      "48/48 [==============================] - 9s 190ms/step - loss: 0.1529 - val_loss: 0.1627\n",
      "Epoch 89/100\n",
      "48/48 [==============================] - 9s 186ms/step - loss: 0.1441 - val_loss: 0.1524\n",
      "Epoch 90/100\n",
      "48/48 [==============================] - 9s 189ms/step - loss: 0.1437 - val_loss: 0.1495\n",
      "Epoch 91/100\n",
      "48/48 [==============================] - 9s 187ms/step - loss: 0.1453 - val_loss: 0.1553\n",
      "Epoch 92/100\n",
      "48/48 [==============================] - 9s 191ms/step - loss: 0.1362 - val_loss: 0.1418\n",
      "Epoch 93/100\n",
      "48/48 [==============================] - 9s 191ms/step - loss: 0.2775 - val_loss: 0.2090\n",
      "Epoch 94/100\n",
      "48/48 [==============================] - 9s 190ms/step - loss: 0.1773 - val_loss: 0.1776\n",
      "Epoch 95/100\n",
      "48/48 [==============================] - 9s 189ms/step - loss: 0.1575 - val_loss: 0.1609\n",
      "Epoch 96/100\n",
      "48/48 [==============================] - 9s 193ms/step - loss: 0.1499 - val_loss: 0.1658\n",
      "Epoch 97/100\n",
      "48/48 [==============================] - 9s 188ms/step - loss: 0.1404 - val_loss: 0.1770\n",
      "Epoch 98/100\n",
      "48/48 [==============================] - 9s 190ms/step - loss: 0.1528 - val_loss: 0.1516\n",
      "Epoch 99/100\n",
      "48/48 [==============================] - 9s 185ms/step - loss: 0.1471 - val_loss: 0.1683\n",
      "Epoch 100/100\n",
      "48/48 [==============================] - 9s 193ms/step - loss: 0.1449 - val_loss: 0.1611\n"
     ]
    }
   ],
   "source": [
    "# X_train, X_test, y_train, y_test\n",
    "history = model.fit(X_train, y_train, batch_size=30, epochs=100, verbose=1, validation_data=(X_test, y_test))"
   ]
  },
  {
   "cell_type": "code",
   "execution_count": 22,
   "metadata": {
    "colab": {
     "base_uri": "https://localhost:8080/"
    },
    "executionInfo": {
     "elapsed": 16,
     "status": "ok",
     "timestamp": 1634266126080,
     "user": {
      "displayName": "김성국",
      "photoUrl": "https://lh3.googleusercontent.com/a/default-user=s64",
      "userId": "14454204284131910272"
     },
     "user_tz": -540
    },
    "id": "yL2y4PuK5yne",
    "outputId": "9cb04cf3-c4eb-46c9-b1e0-cebc8afe23cc"
   },
   "outputs": [
    {
     "name": "stdout",
     "output_type": "stream",
     "text": [
      "/gdrive/MyDrive/EM_LSTM\n",
      "/gdrive/MyDrive/EM_LSTM\n"
     ]
    }
   ],
   "source": [
    "%cd '/gdrive/MyDrive/EM_LSTM'\n",
    "!pwd\n",
    "model.save('./emo_reverse.h5')"
   ]
  },
  {
   "cell_type": "markdown",
   "metadata": {
    "id": "npkgVVNZOast"
   },
   "source": [
    "# 평가"
   ]
  },
  {
   "cell_type": "code",
   "execution_count": 26,
   "metadata": {
    "colab": {
     "base_uri": "https://localhost:8080/",
     "height": 265
    },
    "executionInfo": {
     "elapsed": 496,
     "status": "ok",
     "timestamp": 1634268302652,
     "user": {
      "displayName": "김성국",
      "photoUrl": "https://lh3.googleusercontent.com/a/default-user=s64",
      "userId": "14454204284131910272"
     },
     "user_tz": -540
    },
    "id": "omSoUoOCtoJH",
    "outputId": "419e7b4b-5077-4554-9207-17db5fb16a6a"
   },
   "outputs": [
    {
     "data": {
      "image/png": "[encoded data removed]",
      "text/plain": [
       "<Figure size 432x288 with 1 Axes>"
      ]
     },
     "metadata": {
      "needs_background": "light"
     },
     "output_type": "display_data"
    }
   ],
   "source": [
    "# plot history\n",
    "from matplotlib import pyplot\n",
    "pyplot.plot(history.history['loss'], label='train')\n",
    "pyplot.plot(history.history['val_loss'], label='test')\n",
    "pyplot.legend()\n",
    "pyplot.show()"
   ]
  },
  {
   "cell_type": "code",
   "execution_count": 27,
   "metadata": {
    "executionInfo": {
     "elapsed": 1851,
     "status": "ok",
     "timestamp": 1634268307100,
     "user": {
      "displayName": "김성국",
      "photoUrl": "https://lh3.googleusercontent.com/a/default-user=s64",
      "userId": "14454204284131910272"
     },
     "user_tz": -540
    },
    "id": "OVShYrFKOhLl"
   },
   "outputs": [],
   "source": [
    "y_true = np.array(y_test)\n",
    "x_scaled = np.array(X_test)\n",
    "y_pred = model.predict(x_scaled)"
   ]
  },
  {
   "cell_type": "code",
   "execution_count": 28,
   "metadata": {
    "executionInfo": {
     "elapsed": 259,
     "status": "ok",
     "timestamp": 1634268308429,
     "user": {
      "displayName": "김성국",
      "photoUrl": "https://lh3.googleusercontent.com/a/default-user=s64",
      "userId": "14454204284131910272"
     },
     "user_tz": -540
    },
    "id": "4plmm_WvQJaX"
   },
   "outputs": [],
   "source": [
    "y_pred2 = np.argmax(y_pred, axis=1)\n",
    "y_true2 = np.argmax(y_true, axis=1)"
   ]
  },
  {
   "cell_type": "markdown",
   "metadata": {
    "id": "0p7BlqzIxyix"
   },
   "source": [
    "## Confusion Matrix"
   ]
  },
  {
   "cell_type": "code",
   "execution_count": 29,
   "metadata": {
    "colab": {
     "base_uri": "https://localhost:8080/",
     "height": 279
    },
    "executionInfo": {
     "elapsed": 565,
     "status": "ok",
     "timestamp": 1634268310180,
     "user": {
      "displayName": "김성국",
      "photoUrl": "https://lh3.googleusercontent.com/a/default-user=s64",
      "userId": "14454204284131910272"
     },
     "user_tz": -540
    },
    "id": "YSP7W2NEoXf5",
    "outputId": "90483777-ddac-48ab-cb75-20a2f1b5267e"
   },
   "outputs": [
    {
     "data": {
      "image/png": "[encoded data removed]",
      "text/plain": [
       "<Figure size 432x288 with 2 Axes>"
      ]
     },
     "metadata": {
      "needs_background": "light"
     },
     "output_type": "display_data"
    }
   ],
   "source": [
    "labels = [\"Bob\", \"Jook\", \"Mium\"]\n",
    "\n",
    "cm = confusion_matrix(y_true2, y_pred2)\n",
    "\n",
    "disp = ConfusionMatrixDisplay(confusion_matrix=cm, display_labels=labels)\n",
    "\n",
    "disp.plot(cmap=plt.cm.Blues)\n",
    "plt.show()"
   ]
  },
  {
   "cell_type": "markdown",
   "metadata": {
    "id": "xPUSJiUrx1vM"
   },
   "source": [
    "## Accuracy"
   ]
  },
  {
   "cell_type": "code",
   "execution_count": 30,
   "metadata": {
    "colab": {
     "base_uri": "https://localhost:8080/"
    },
    "executionInfo": {
     "elapsed": 348,
     "status": "ok",
     "timestamp": 1634268314905,
     "user": {
      "displayName": "김성국",
      "photoUrl": "https://lh3.googleusercontent.com/a/default-user=s64",
      "userId": "14454204284131910272"
     },
     "user_tz": -540
    },
    "id": "itZgUJaXEQ9E",
    "outputId": "4532624b-880f-47ba-82dc-0218adcfebbf"
   },
   "outputs": [
    {
     "name": "stdout",
     "output_type": "stream",
     "text": [
      "0.627831715210356\n"
     ]
    }
   ],
   "source": [
    "labels = y_true2\t# 실제 labels\n",
    "guesses = y_pred2\t# 에측된 결과\n",
    "\n",
    "print(accuracy_score(labels, guesses))"
   ]
  }
 ],
 "metadata": {
  "colab": {
   "authorship_tag": "ABX9TyP4KwKFFAV+iz8Tf1Ag+fFL",
   "collapsed_sections": [],
   "name": "emo_LSTM_letsgo_reverse.ipynb",
   "provenance": [
    {
     "file_id": "1hEt_zF-q0GMFU-iORhHRmNESW95lZD1_",
     "timestamp": 1634192590702
    }
   ],
   "toc_visible": true
  },
  "kernelspec": {
   "display_name": "Python 3",
   "language": "python",
   "name": "python3"
  },
  "language_info": {
   "codemirror_mode": {
    "name": "ipython",
    "version": 3
   },
   "file_extension": ".py",
   "mimetype": "text/x-python",
   "name": "python",
   "nbconvert_exporter": "python",
   "pygments_lexer": "ipython3",
   "version": "3.6.9"
  }
 },
 "nbformat": 4,
 "nbformat_minor": 4
}
